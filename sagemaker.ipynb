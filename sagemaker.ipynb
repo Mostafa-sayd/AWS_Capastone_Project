{
 "cells": [
  {
   "cell_type": "markdown",
   "metadata": {
    "id": "8i4H3Qpce-Xm"
   },
   "source": [
    "# TODO: Title\n",
    "**TODO**: Give a helpful introduction to what this notebook is for. Remember that comments, explanations and good documentation make your project informative and professional.\n",
    "\n",
    "**Note:** This notebook has a bunch of code and markdown cells with TODOs that you have to complete. These are meant to be helpful guidelines for you to finish your project while meeting the requirements in the project rubrics. Feel free to change the order of the TODO's and/or use more than one cell to complete all the tasks."
   ]
  },
  {
   "cell_type": "code",
   "execution_count": 42,
   "metadata": {
    "id": "Lxm-I8h0e-Xt",
    "scrolled": true,
    "tags": []
   },
   "outputs": [],
   "source": [
    "# TODO: Install any packages that you might need\n",
    "import os\n",
    "import requests\n",
    "import os\n",
    "import json\n",
    "import boto3\n",
    "import sagemaker\n",
    "from sagemaker.pytorch import PyTorch\n",
    "from sagemaker.tuner import (\n",
    "    IntegerParameter,\n",
    "    CategoricalParameter,\n",
    "    ContinuousParameter,\n",
    "    HyperparameterTuner,\n",
    ")\n",
    "from sagemaker.pytorch import PyTorchModel\n",
    "from sagemaker.serializers import IdentitySerializer\n",
    "from PIL import Image\n",
    "from IPython.display import Image as ImageDisplay\n",
    "import io\n",
    "from tqdm import tqdm\n",
    "\n",
    "import pandas as pd\n",
    "import matplotlib.pyplot as plt\n",
    "import matplotlib.image as mpimg\n",
    "import random\n",
    "\n",
    "from os import listdir\n",
    "from os.path import isfile, join\n",
    "from collections import defaultdict\n",
    "from sagemaker.predictor import Predictor\n",
    "from sagemaker.debugger import Rule, DebuggerHookConfig, TensorBoardOutputConfig, CollectionConfig, ProfilerRule, rule_configs, ProfilerConfig, FrameworkProfile\n",
    "from sagemaker.analytics import HyperparameterTuningJobAnalytics\n",
    "\n"
   ]
  },
  {
   "cell_type": "code",
   "execution_count": 5,
   "metadata": {
    "id": "7aFBKKJke-Xw",
    "outputId": "49c2f139-fab9-4b79-93bc-56ed240044e3",
    "tags": []
   },
   "outputs": [
    {
     "name": "stdout",
     "output_type": "stream",
     "text": [
      "Bucket Name: sagemaker-us-east-1-277157499543\n",
      "AWS Region: us-east-1\n",
      "Role Name: arn:aws:iam::277157499543:role/service-role/AmazonSageMaker-ExecutionRole-20230309T202028\n"
     ]
    }
   ],
   "source": [
    "# TODO: Import any packages that you might need\n",
    "session = sagemaker.Session()\n",
    "bucket= session.default_bucket()\n",
    "print(\"Bucket Name: {}\".format(bucket))\n",
    "region = session.boto_region_name\n",
    "print(\"AWS Region: {}\".format(region))\n",
    "role = sagemaker.get_execution_role()\n",
    "print(\"Role Name: {}\".format(role))"
   ]
  },
  {
   "cell_type": "markdown",
   "metadata": {
    "id": "DPrb2im5e-Xy"
   },
   "source": [
    "## Data Preparation\n",
    "**TODO:** Run the cell below to download the data.\n",
    "\n",
    "The cell below creates a folder called `train_data`, downloads training data and arranges it in subfolders. Each of these subfolders contain images where the number of objects is equal to the name of the folder. For instance, all images in folder `1` has images with 1 object in them. Images are not divided into training, testing or validation sets. If you feel like the number of samples are not enough, you can always download more data (instructions for that can be found [here](https://registry.opendata.aws/amazon-bin-imagery/)). However, we are not acessing you on the accuracy of your final trained model, but how you create your machine learning engineering pipeline."
   ]
  },
  {
   "cell_type": "code",
   "execution_count": 4,
   "metadata": {
    "id": "TcGmVMJLe-Xz",
    "outputId": "604dc145-9300-48e3-980d-cf6c1a20506d",
    "tags": []
   },
   "outputs": [
    {
     "name": "stdout",
     "output_type": "stream",
     "text": [
      "Downloading Images with 1 objects\n"
     ]
    },
    {
     "name": "stderr",
     "output_type": "stream",
     "text": [
      "100%|██████████| 1228/1228 [01:59<00:00, 10.25it/s]\n"
     ]
    },
    {
     "name": "stdout",
     "output_type": "stream",
     "text": [
      "Downloading Images with 2 objects\n"
     ]
    },
    {
     "name": "stderr",
     "output_type": "stream",
     "text": [
      "100%|██████████| 2299/2299 [03:45<00:00, 10.19it/s]\n"
     ]
    },
    {
     "name": "stdout",
     "output_type": "stream",
     "text": [
      "Downloading Images with 3 objects\n"
     ]
    },
    {
     "name": "stderr",
     "output_type": "stream",
     "text": [
      "100%|██████████| 2666/2666 [04:23<00:00, 10.13it/s]\n"
     ]
    },
    {
     "name": "stdout",
     "output_type": "stream",
     "text": [
      "Downloading Images with 4 objects\n"
     ]
    },
    {
     "name": "stderr",
     "output_type": "stream",
     "text": [
      "100%|██████████| 2373/2373 [03:50<00:00, 10.32it/s]\n"
     ]
    },
    {
     "name": "stdout",
     "output_type": "stream",
     "text": [
      "Downloading Images with 5 objects\n"
     ]
    },
    {
     "name": "stderr",
     "output_type": "stream",
     "text": [
      "100%|██████████| 1875/1875 [02:56<00:00, 10.60it/s]\n"
     ]
    }
   ],
   "source": [
    "train_data =  'train_data'\n",
    "\n",
    "def download_and_arrange_data(train_data):\n",
    "    s3_client = boto3.client('s3')\n",
    "\n",
    "    with open('file_list.json', 'r') as f:\n",
    "        d=json.load(f)\n",
    "\n",
    "    for k, v in d.items():\n",
    "        print(f\"Downloading Images with {k} objects\")\n",
    "        directory=os.path.join(train_data, k)\n",
    "        if not os.path.exists(directory):\n",
    "            os.makedirs(directory)\n",
    "        for file_path in tqdm(v):\n",
    "            file_name=os.path.basename(file_path).split('.')[0]+'.jpg'\n",
    "            s3_client.download_file('aft-vbi-pds', os.path.join('bin-images', file_name),\n",
    "                             os.path.join(directory, file_name))\n",
    "\n",
    "download_and_arrange_data(train_data)"
   ]
  },
  {
   "cell_type": "markdown",
   "metadata": {
    "id": "Vexwrmike-X0"
   },
   "source": [
    "## Dataset\n",
    "**TODO:** Explain what dataset you are using for this project. Give a small overview of the classes, class distributions etc that can help anyone not familiar with the dataset get a better understanding of it. You can find more information about the data [here](https://registry.opendata.aws/amazon-bin-imagery/)."
   ]
  },
  {
   "cell_type": "code",
   "execution_count": 6,
   "metadata": {
    "id": "cIyxNxYQe-X1",
    "outputId": "9ed212da-0af0-4303-eb2d-b42514cf1867",
    "tags": []
   },
   "outputs": [
    {
     "name": "stdout",
     "output_type": "stream",
     "text": [
      "Number of images are 1228 images with 1 items in it.\n",
      "Number of images are 2299 images with 2 items in it.\n",
      "Number of images are 2666 images with 3 items in it.\n",
      "Number of images are 2373 images with 4 items in it.\n",
      "Number of images are 1875 images with 5 items in it.\n"
     ]
    }
   ],
   "source": [
    "#TODO: Perform any data cleaning or data preprocessing\n",
    "train_data = \"train_data\"\n",
    "main_dirs = os.listdir(train_data)\n",
    "main_dirs.sort()\n",
    "num_items = {}\n",
    "file_lists = {}\n",
    "for directory in main_dirs:\n",
    "    file_lists[directory] = [s for s in os.listdir(os.path.join(train_data, directory)) if \"jpg\" in s]\n",
    "    file_lists[directory].sort()\n",
    "    num_items[directory] = len(file_lists[directory])\n",
    "    print(f'Number of images are {num_items[directory]} images with {directory} items in it.')"
   ]
  },
  {
   "cell_type": "code",
   "execution_count": 7,
   "metadata": {
    "id": "uM9fRQUBe-X2",
    "outputId": "2be0bc9d-f29c-4544-fef5-64d35b0d1a4d",
    "tags": []
   },
   "outputs": [
    {
     "data": {
      "image/png": "[encoded data removed]",
      "text/plain": [
       "<Figure size 864x864 with 5 Axes>"
      ]
     },
     "metadata": {
      "needs_background": "light"
     },
     "output_type": "display_data"
    }
   ],
   "source": [
    "# Plot some of the data\n",
    "figure = plt.figure(figsize=(12, 12))\n",
    "cols, rows = 3, 2\n",
    "for key in num_items.keys():\n",
    "    sample_idx = random.randint(0, num_items[key]-1)\n",
    "    img_filename = file_lists[key][sample_idx]\n",
    "    label = \"num items\" +key + \"\\n sample\"+ img_filename\n",
    "    figure.add_subplot(rows, cols, int(key))\n",
    "    plt.title(label)\n",
    "    plt.axis(\"off\")\n",
    "    plt.imshow(mpimg.imread(os.path.join(train_data, key, img_filename)).squeeze(), cmap=\"gray\")\n",
    "plt.show()\n"
   ]
  },
  {
   "cell_type": "code",
   "execution_count": 8,
   "metadata": {
    "id": "59SYLO0Ee-X3",
    "outputId": "aa56bbcc-b23b-4103-bbff-51ed938e2603",
    "tags": []
   },
   "outputs": [
    {
     "name": "stdout",
     "output_type": "stream",
     "text": [
      "num items 1: Test: 245, Train: 983\n",
      "num items 2: Test: 459, Train: 1840\n",
      "num items 3: Test: 533, Train: 2133\n",
      "num items 4: Test: 474, Train: 1899\n",
      "num items 5: Test: 375, Train: 1500\n"
     ]
    }
   ],
   "source": [
    "file_list_train = {}\n",
    "file_list_test = {}\n",
    "for key in num_items.keys():\n",
    "    test_no = int(0.2*num_items[key])\n",
    "    train_no =  int(num_items[key] - test_no)\n",
    "    file_list_test[key] = []\n",
    "    file_list_train[key] = []\n",
    "    for idx, filename in enumerate(file_lists[key]):\n",
    "        if (idx<(test_no)):\n",
    "            file_list_test[key].append(filename)\n",
    "        else:\n",
    "            file_list_train[key].append(filename)\n",
    "            \n",
    "    print(f'num items {key}: Test: {test_no}, Train: {train_no}')"
   ]
  },
  {
   "cell_type": "code",
   "execution_count": 9,
   "metadata": {
    "id": "Ji_eWFlbe-X3",
    "tags": []
   },
   "outputs": [],
   "source": [
    "new_path =  \"new_data\"\n",
    "os.mkdir(new_path)\n",
    "os.mkdir(os.path.join(new_path, 'test'))\n",
    "os.mkdir(os.path.join(new_path, 'train'))"
   ]
  },
  {
   "cell_type": "code",
   "execution_count": 10,
   "metadata": {
    "id": "3UZylxfOe-X4",
    "tags": []
   },
   "outputs": [],
   "source": [
    "for key in num_items.keys():\n",
    "    os.mkdir(os.path.join(new_path, 'test', key))\n",
    "    os.mkdir(os.path.join(new_path, 'train', key))"
   ]
  },
  {
   "cell_type": "code",
   "execution_count": 11,
   "metadata": {
    "id": "wZXYCgile-X5",
    "outputId": "75933eb9-5b25-45e0-dd62-92a03011150a",
    "tags": []
   },
   "outputs": [
    {
     "name": "stdout",
     "output_type": "stream",
     "text": [
      "Finished\n"
     ]
    }
   ],
   "source": [
    "import shutil\n",
    "for key in num_items.keys():    \n",
    "    for filename in file_list_test[key]:\n",
    "        shutil.copy(os.path.join(train_data, key, filename), os.path.join(new_path,'test', key, filename))\n",
    "    for filename in file_list_train[key]:\n",
    "        shutil.copy(os.path.join(train_data, key, filename), os.path.join(new_path,'train', key, filename))\n",
    "        \n",
    "print(\"Finished\")"
   ]
  },
  {
   "cell_type": "code",
   "execution_count": null,
   "metadata": {
    "id": "7tdeMH-le-X5",
    "outputId": "31632dbe-52c1-40fe-a127-60871545dace",
    "tags": []
   },
   "outputs": [],
   "source": [
    "#TODO: Upload the data to AWS S3\n",
    "\n",
    "!aws s3 cp new_data s3://sagemaker-us-east-1-277157499543/new_data --recursive\n"
   ]
  },
  {
   "cell_type": "code",
   "execution_count": 13,
   "metadata": {
    "id": "gDv7L1-he-X6",
    "tags": []
   },
   "outputs": [],
   "source": [
    "%%capture\n",
    "!pip install ipywidgets"
   ]
  },
  {
   "cell_type": "code",
   "execution_count": 14,
   "metadata": {
    "tags": []
   },
   "outputs": [],
   "source": [
    "# Setting seeds to try and ensure we have the same results - this is not guaranteed across PyTorch releases.\n",
    "import torch\n",
    "torch.manual_seed(0)\n",
    "torch.backends.cudnn.deterministic = True\n",
    "torch.backends.cudnn.benchmark = False"
   ]
  },
  {
   "cell_type": "code",
   "execution_count": 15,
   "metadata": {
    "tags": []
   },
   "outputs": [
    {
     "data": {
      "text/plain": [
       "device(type='cuda')"
      ]
     },
     "execution_count": 15,
     "metadata": {},
     "output_type": "execute_result"
    }
   ],
   "source": [
    "device = torch.device('cuda' if torch.cuda.is_available() else 'cpu')\n",
    "device"
   ]
  },
  {
   "cell_type": "code",
   "execution_count": 30,
   "metadata": {
    "tags": []
   },
   "outputs": [
    {
     "data": {
      "text/html": [
       "<script>Jupyter.notebook.kernel.restart()</script>"
      ],
      "text/plain": [
       "<IPython.core.display.HTML object>"
      ]
     },
     "execution_count": 30,
     "metadata": {},
     "output_type": "execute_result"
    }
   ],
   "source": [
    "from IPython.core.display import HTML\n",
    "HTML(\"<script>Jupyter.notebook.kernel.restart()</script>\")"
   ]
  },
  {
   "cell_type": "markdown",
   "metadata": {
    "id": "8FwgueM3e-X7"
   },
   "source": [
    "## Model Training\n",
    "**TODO:** This is the part where you can train a model. The type or architecture of the model you use is not important. \n",
    "\n",
    "**Note:** You will need to use the `train.py` script to train your model."
   ]
  },
  {
   "cell_type": "markdown",
   "metadata": {},
   "source": [
    "<h3>Set up parameters, estimator, and tuner</h3>"
   ]
  },
  {
   "cell_type": "code",
   "execution_count": 21,
   "metadata": {
    "tags": []
   },
   "outputs": [],
   "source": [
    "from time import gmtime, strftime"
   ]
  },
  {
   "cell_type": "code",
   "execution_count": 22,
   "metadata": {
    "tags": []
   },
   "outputs": [],
   "source": [
    "\n",
    "tuning_job_name = \"imageclassif-job-{}\".format(strftime(\"%d-%H-%M-%S\", gmtime()))"
   ]
  },
  {
   "cell_type": "code",
   "execution_count": 32,
   "metadata": {
    "id": "2okBbYr0e-X7",
    "tags": []
   },
   "outputs": [],
   "source": [
    "#TODO: Declare your model training hyperparameter.\n",
    "#NOTE: You do not need to do hyperparameter tuning. You can use fixed hyperparameter values\n",
    "hyperparameters = {\n",
    "    \"batch-size\": \"512\",\n",
    "    \"epochs\": 5,\n",
    "    \"lr\": \"0.01\",\n",
    "}"
   ]
  },
  {
   "cell_type": "code",
   "execution_count": 33,
   "metadata": {
    "id": "WhY_0rQ_e-X8",
    "tags": []
   },
   "outputs": [],
   "source": [
    "#TODO: Create your training estimator\n",
    "estimator = PyTorch(\n",
    "    role=role,\n",
    "    instance_count=1,\n",
    "    instance_type=\"ml.m5.xlarge\",\n",
    "    source_dir=\".\",\n",
    "    entry_point=\"train_model.py\",\n",
    "    framework_version=\"1.8\",\n",
    "    py_version=\"py36\",\n",
    "    hyperparameters=hyperparameters,\n",
    ")\n"
   ]
  },
  {
   "cell_type": "code",
   "execution_count": 35,
   "metadata": {
    "id": "jzSIOy53e-X8",
    "tags": []
   },
   "outputs": [],
   "source": [
    "train_path = \"s3://sagemaker-us-east-1-277157499543/new_data/train\" \n",
    "test_path = \"s3://sagemaker-us-east-1-277157499543/new_data/test\""
   ]
  },
  {
   "cell_type": "code",
   "execution_count": null,
   "metadata": {
    "id": "XoD_NOGLe-X8"
   },
   "outputs": [],
   "source": []
  },
  {
   "cell_type": "code",
   "execution_count": 36,
   "metadata": {
    "id": "P6_3-CaKe-X9",
    "outputId": "6beb2814-e34d-43e4-8e34-d4af681ab6f1",
    "tags": []
   },
   "outputs": [
    {
     "name": "stdout",
     "output_type": "stream",
     "text": [
      "2023-03-17 22:38:37 Starting - Starting the training job...\n",
      "2023-03-17 22:39:01 Starting - Preparing the instances for trainingProfilerReport-1679092628: InProgress\n",
      "......\n",
      "2023-03-17 22:40:01 Downloading - Downloading input data...\n",
      "2023-03-17 22:40:25 Training - Downloading the training image...\n",
      "2023-03-17 22:41:02 Training - Training image download completed. Training in progress.\u001b[34mbash: cannot set terminal process group (-1): Inappropriate ioctl for device\u001b[0m\n",
      "\u001b[34mbash: no job control in this shell\u001b[0m\n",
      "\u001b[34m2023-03-17 22:40:51,232 sagemaker-training-toolkit INFO     Imported framework sagemaker_pytorch_container.training\u001b[0m\n",
      "\u001b[34m2023-03-17 22:40:51,235 sagemaker-training-toolkit INFO     No GPUs detected (normal if no gpus installed)\u001b[0m\n",
      "\u001b[34m2023-03-17 22:40:51,244 sagemaker_pytorch_container.training INFO     Block until all host DNS lookups succeed.\u001b[0m\n",
      "\u001b[34m2023-03-17 22:40:51,246 sagemaker_pytorch_container.training INFO     Invoking user training script.\u001b[0m\n",
      "\u001b[34m2023-03-17 22:41:06,715 sagemaker-training-toolkit INFO     No GPUs detected (normal if no gpus installed)\u001b[0m\n",
      "\u001b[34m2023-03-17 22:41:06,729 sagemaker-training-toolkit INFO     No GPUs detected (normal if no gpus installed)\u001b[0m\n",
      "\u001b[34m2023-03-17 22:41:06,744 sagemaker-training-toolkit INFO     No GPUs detected (normal if no gpus installed)\u001b[0m\n",
      "\u001b[34m2023-03-17 22:41:06,754 sagemaker-training-toolkit INFO     Invoking user script\u001b[0m\n",
      "\u001b[34mTraining Env:\u001b[0m\n",
      "\u001b[34m{\n",
      "    \"additional_framework_parameters\": {},\n",
      "    \"channel_input_dirs\": {\n",
      "        \"test\": \"/opt/ml/input/data/test\",\n",
      "        \"train\": \"/opt/ml/input/data/train\"\n",
      "    },\n",
      "    \"current_host\": \"algo-1\",\n",
      "    \"framework_module\": \"sagemaker_pytorch_container.training:main\",\n",
      "    \"hosts\": [\n",
      "        \"algo-1\"\n",
      "    ],\n",
      "    \"hyperparameters\": {\n",
      "        \"batch-size\": \"512\",\n",
      "        \"epochs\": 5,\n",
      "        \"lr\": \"0.01\"\n",
      "    },\n",
      "    \"input_config_dir\": \"/opt/ml/input/config\",\n",
      "    \"input_data_config\": {\n",
      "        \"test\": {\n",
      "            \"TrainingInputMode\": \"File\",\n",
      "            \"S3DistributionType\": \"FullyReplicated\",\n",
      "            \"RecordWrapperType\": \"None\"\n",
      "        },\n",
      "        \"train\": {\n",
      "            \"TrainingInputMode\": \"File\",\n",
      "            \"S3DistributionType\": \"FullyReplicated\",\n",
      "            \"RecordWrapperType\": \"None\"\n",
      "        }\n",
      "    },\n",
      "    \"input_dir\": \"/opt/ml/input\",\n",
      "    \"is_master\": true,\n",
      "    \"job_name\": \"pytorch-training-2023-03-17-22-37-08-359\",\n",
      "    \"log_level\": 20,\n",
      "    \"master_hostname\": \"algo-1\",\n",
      "    \"model_dir\": \"/opt/ml/model\",\n",
      "    \"module_dir\": \"s3://sagemaker-us-east-1-277157499543/pytorch-training-2023-03-17-22-37-08-359/source/sourcedir.tar.gz\",\n",
      "    \"module_name\": \"train_model\",\n",
      "    \"network_interface_name\": \"eth0\",\n",
      "    \"num_cpus\": 4,\n",
      "    \"num_gpus\": 0,\n",
      "    \"output_data_dir\": \"/opt/ml/output/data\",\n",
      "    \"output_dir\": \"/opt/ml/output\",\n",
      "    \"output_intermediate_dir\": \"/opt/ml/output/intermediate\",\n",
      "    \"resource_config\": {\n",
      "        \"current_host\": \"algo-1\",\n",
      "        \"current_instance_type\": \"ml.m5.xlarge\",\n",
      "        \"current_group_name\": \"homogeneousCluster\",\n",
      "        \"hosts\": [\n",
      "            \"algo-1\"\n",
      "        ],\n",
      "        \"instance_groups\": [\n",
      "            {\n",
      "                \"instance_group_name\": \"homogeneousCluster\",\n",
      "                \"instance_type\": \"ml.m5.xlarge\",\n",
      "                \"hosts\": [\n",
      "                    \"algo-1\"\n",
      "                ]\n",
      "            }\n",
      "        ],\n",
      "        \"network_interface_name\": \"eth0\"\n",
      "    },\n",
      "    \"user_entry_point\": \"train_model.py\"\u001b[0m\n",
      "\u001b[34m}\u001b[0m\n",
      "\u001b[34mEnvironment variables:\u001b[0m\n",
      "\u001b[34mSM_HOSTS=[\"algo-1\"]\u001b[0m\n",
      "\u001b[34mSM_NETWORK_INTERFACE_NAME=eth0\u001b[0m\n",
      "\u001b[34mSM_HPS={\"batch-size\":\"512\",\"epochs\":5,\"lr\":\"0.01\"}\u001b[0m\n",
      "\u001b[34mSM_USER_ENTRY_POINT=train_model.py\u001b[0m\n",
      "\u001b[34mSM_FRAMEWORK_PARAMS={}\u001b[0m\n",
      "\u001b[34mSM_RESOURCE_CONFIG={\"current_group_name\":\"homogeneousCluster\",\"current_host\":\"algo-1\",\"current_instance_type\":\"ml.m5.xlarge\",\"hosts\":[\"algo-1\"],\"instance_groups\":[{\"hosts\":[\"algo-1\"],\"instance_group_name\":\"homogeneousCluster\",\"instance_type\":\"ml.m5.xlarge\"}],\"network_interface_name\":\"eth0\"}\u001b[0m\n",
      "\u001b[34mSM_INPUT_DATA_CONFIG={\"test\":{\"RecordWrapperType\":\"None\",\"S3DistributionType\":\"FullyReplicated\",\"TrainingInputMode\":\"File\"},\"train\":{\"RecordWrapperType\":\"None\",\"S3DistributionType\":\"FullyReplicated\",\"TrainingInputMode\":\"File\"}}\u001b[0m\n",
      "\u001b[34mSM_OUTPUT_DATA_DIR=/opt/ml/output/data\u001b[0m\n",
      "\u001b[34mSM_CHANNELS=[\"test\",\"train\"]\u001b[0m\n",
      "\u001b[34mSM_CURRENT_HOST=algo-1\u001b[0m\n",
      "\u001b[34mSM_MODULE_NAME=train_model\u001b[0m\n",
      "\u001b[34mSM_LOG_LEVEL=20\u001b[0m\n",
      "\u001b[34mSM_FRAMEWORK_MODULE=sagemaker_pytorch_container.training:main\u001b[0m\n",
      "\u001b[34mSM_INPUT_DIR=/opt/ml/input\u001b[0m\n",
      "\u001b[34mSM_INPUT_CONFIG_DIR=/opt/ml/input/config\u001b[0m\n",
      "\u001b[34mSM_OUTPUT_DIR=/opt/ml/output\u001b[0m\n",
      "\u001b[34mSM_NUM_CPUS=4\u001b[0m\n",
      "\u001b[34mSM_NUM_GPUS=0\u001b[0m\n",
      "\u001b[34mSM_MODEL_DIR=/opt/ml/model\u001b[0m\n",
      "\u001b[34mSM_MODULE_DIR=s3://sagemaker-us-east-1-277157499543/pytorch-training-2023-03-17-22-37-08-359/source/sourcedir.tar.gz\u001b[0m\n",
      "\u001b[34mSM_TRAINING_ENV={\"additional_framework_parameters\":{},\"channel_input_dirs\":{\"test\":\"/opt/ml/input/data/test\",\"train\":\"/opt/ml/input/data/train\"},\"current_host\":\"algo-1\",\"framework_module\":\"sagemaker_pytorch_container.training:main\",\"hosts\":[\"algo-1\"],\"hyperparameters\":{\"batch-size\":\"512\",\"epochs\":5,\"lr\":\"0.01\"},\"input_config_dir\":\"/opt/ml/input/config\",\"input_data_config\":{\"test\":{\"RecordWrapperType\":\"None\",\"S3DistributionType\":\"FullyReplicated\",\"TrainingInputMode\":\"File\"},\"train\":{\"RecordWrapperType\":\"None\",\"S3DistributionType\":\"FullyReplicated\",\"TrainingInputMode\":\"File\"}},\"input_dir\":\"/opt/ml/input\",\"is_master\":true,\"job_name\":\"pytorch-training-2023-03-17-22-37-08-359\",\"log_level\":20,\"master_hostname\":\"algo-1\",\"model_dir\":\"/opt/ml/model\",\"module_dir\":\"s3://sagemaker-us-east-1-277157499543/pytorch-training-2023-03-17-22-37-08-359/source/sourcedir.tar.gz\",\"module_name\":\"train_model\",\"network_interface_name\":\"eth0\",\"num_cpus\":4,\"num_gpus\":0,\"output_data_dir\":\"/opt/ml/output/data\",\"output_dir\":\"/opt/ml/output\",\"output_intermediate_dir\":\"/opt/ml/output/intermediate\",\"resource_config\":{\"current_group_name\":\"homogeneousCluster\",\"current_host\":\"algo-1\",\"current_instance_type\":\"ml.m5.xlarge\",\"hosts\":[\"algo-1\"],\"instance_groups\":[{\"hosts\":[\"algo-1\"],\"instance_group_name\":\"homogeneousCluster\",\"instance_type\":\"ml.m5.xlarge\"}],\"network_interface_name\":\"eth0\"},\"user_entry_point\":\"train_model.py\"}\u001b[0m\n",
      "\u001b[34mSM_USER_ARGS=[\"--batch-size\",\"512\",\"--epochs\",\"5\",\"--lr\",\"0.01\"]\u001b[0m\n",
      "\u001b[34mSM_OUTPUT_INTERMEDIATE_DIR=/opt/ml/output/intermediate\u001b[0m\n",
      "\u001b[34mSM_CHANNEL_TEST=/opt/ml/input/data/test\u001b[0m\n",
      "\u001b[34mSM_CHANNEL_TRAIN=/opt/ml/input/data/train\u001b[0m\n",
      "\u001b[34mSM_HP_BATCH-SIZE=512\u001b[0m\n",
      "\u001b[34mSM_HP_EPOCHS=5\u001b[0m\n",
      "\u001b[34mSM_HP_LR=0.01\u001b[0m\n",
      "\u001b[34mPYTHONPATH=/opt/ml/code:/opt/conda/bin:/opt/conda/lib/python36.zip:/opt/conda/lib/python3.6:/opt/conda/lib/python3.6/lib-dynload:/opt/conda/lib/python3.6/site-packages\u001b[0m\n",
      "\u001b[34mInvoking script with the following command:\u001b[0m\n",
      "\u001b[34m/opt/conda/bin/python3.6 train_model.py --batch-size 512 --epochs 5 --lr 0.01\u001b[0m\n",
      "\u001b[34m[2023-03-17 22:41:08.111 algo-1:37 INFO utils.py:27] RULE_JOB_STOP_SIGNAL_FILENAME: None\u001b[0m\n",
      "\u001b[34m[2023-03-17 22:41:08.293 algo-1:37 INFO profiler_config_parser.py:102] User has disabled profiler.\u001b[0m\n",
      "\u001b[34m[2023-03-17 22:41:08.293 algo-1:37 INFO json_config.py:91] Creating hook from json_config at /opt/ml/input/config/debughookconfig.json.\u001b[0m\n",
      "\u001b[34m[2023-03-17 22:41:08.294 algo-1:37 INFO hook.py:201] tensorboard_dir has not been set for the hook. SMDebug will not be exporting tensorboard summaries.\u001b[0m\n",
      "\u001b[34m[2023-03-17 22:41:08.294 algo-1:37 INFO hook.py:255] Saving to /opt/ml/output/tensors\u001b[0m\n",
      "\u001b[34m[2023-03-17 22:41:08.294 algo-1:37 INFO state_store.py:77] The checkpoint config file /opt/ml/input/config/checkpointconfig.json does not exist.\u001b[0m\n",
      "\u001b[34m[2023-03-17 22:41:11.904 algo-1:37 INFO hook.py:591] name:fc.0.weight count_params:2560\u001b[0m\n",
      "\u001b[34m[2023-03-17 22:41:11.904 algo-1:37 INFO hook.py:591] name:fc.0.bias count_params:5\u001b[0m\n",
      "\u001b[34m[2023-03-17 22:41:11.904 algo-1:37 INFO hook.py:593] Total Trainable Params: 2565\u001b[0m\n",
      "\u001b[34m[2023-03-17 22:41:11.904 algo-1:37 INFO hook.py:425] Monitoring the collections: losses\u001b[0m\n",
      "\u001b[34m[2023-03-17 22:41:11.907 algo-1:37 INFO hook.py:488] Hook is writing from the hook with pid: 37\u001b[0m\n",
      "\u001b[34m512/8355 images trained...\u001b[0m\n",
      "\u001b[34m1024/8355 images trained...\u001b[0m\n",
      "\u001b[34m1536/8355 images trained...\u001b[0m\n",
      "\u001b[34m2048/8355 images trained...\u001b[0m\n",
      "\u001b[34m2560/8355 images trained...\u001b[0m\n",
      "\u001b[34m3072/8355 images trained...\u001b[0m\n",
      "\u001b[34m3584/8355 images trained...\u001b[0m\n",
      "\u001b[34m4096/8355 images trained...\u001b[0m\n",
      "\u001b[34m4608/8355 images trained...\u001b[0m\n",
      "\u001b[34m5120/8355 images trained...\u001b[0m\n",
      "\u001b[34m5632/8355 images trained...\u001b[0m\n",
      "\u001b[34m6144/8355 images trained...\u001b[0m\n",
      "\u001b[34m6656/8355 images trained...\u001b[0m\n",
      "\u001b[34m7168/8355 images trained...\u001b[0m\n",
      "\u001b[34m7680/8355 images trained...\u001b[0m\n",
      "\u001b[34m8192/8355 images trained...\u001b[0m\n",
      "\u001b[34m8355/8355 images trained...\u001b[0m\n",
      "\u001b[34mAccuracy: 22.41771394374626%, Testing Loss: 2.3783991690954713\u001b[0m\n",
      "\u001b[34mAccuracy: 25.743048897411313%, Testing Loss: 1.8280490525959778\u001b[0m\n",
      "\u001b[34m512/8355 images trained...\u001b[0m\n",
      "\u001b[34m1024/8355 images trained...\u001b[0m\n",
      "\u001b[34m1536/8355 images trained...\u001b[0m\n",
      "\u001b[34m2048/8355 images trained...\u001b[0m\n",
      "\u001b[34m2560/8355 images trained...\u001b[0m\n",
      "\u001b[34m3072/8355 images trained...\u001b[0m\n",
      "\u001b[34m3584/8355 images trained...\u001b[0m\n",
      "\u001b[34m4096/8355 images trained...\u001b[0m\n",
      "\u001b[34m4608/8355 images trained...\u001b[0m\n",
      "\u001b[34m5120/8355 images trained...\u001b[0m\n",
      "\u001b[34m5632/8355 images trained...\u001b[0m\n",
      "\u001b[34m6144/8355 images trained...\u001b[0m\n",
      "\u001b[34m6656/8355 images trained...\u001b[0m\n",
      "\u001b[34m7168/8355 images trained...\u001b[0m\n",
      "\u001b[34m7680/8355 images trained...\u001b[0m\n",
      "\u001b[34m8192/8355 images trained...\u001b[0m\n",
      "\u001b[34m8355/8355 images trained...\u001b[0m\n",
      "\u001b[34mAccuracy: 27.851585876720524%, Testing Loss: 1.635875624685784\u001b[0m\n",
      "\u001b[34mAccuracy: 27.85234899328859%, Testing Loss: 1.5884497821731056\u001b[0m\n",
      "\u001b[34m512/8355 images trained...\u001b[0m\n",
      "\u001b[34m1024/8355 images trained...\u001b[0m\n",
      "\u001b[34m1536/8355 images trained...\u001b[0m\n",
      "\u001b[34m2048/8355 images trained...\u001b[0m\n",
      "\u001b[34m2560/8355 images trained...\u001b[0m\n",
      "\u001b[34m3072/8355 images trained...\u001b[0m\n",
      "\u001b[34m3584/8355 images trained...\u001b[0m\n",
      "\u001b[34m4096/8355 images trained...\u001b[0m\n",
      "\u001b[34m4608/8355 images trained...\u001b[0m\n",
      "\u001b[34m5120/8355 images trained...\u001b[0m\n",
      "\u001b[34m5632/8355 images trained...\u001b[0m\n",
      "\u001b[34m6144/8355 images trained...\u001b[0m\n",
      "\u001b[34m6656/8355 images trained...\u001b[0m\n",
      "\u001b[34m7168/8355 images trained...\u001b[0m\n",
      "\u001b[34m7680/8355 images trained...\u001b[0m\n",
      "\u001b[34m8192/8355 images trained...\u001b[0m\n",
      "\u001b[34m8355/8355 images trained...\u001b[0m\n",
      "\u001b[34mAccuracy: 29.108318372232194%, Testing Loss: 1.5266745490131801\u001b[0m\n",
      "\u001b[34mAccuracy: 29.769894534995206%, Testing Loss: 1.5029149992696849\u001b[0m\n",
      "\u001b[34m512/8355 images trained...\u001b[0m\n",
      "\u001b[34m1024/8355 images trained...\u001b[0m\n",
      "\u001b[34m1536/8355 images trained...\u001b[0m\n",
      "\u001b[34m2048/8355 images trained...\u001b[0m\n",
      "\u001b[34m2560/8355 images trained...\u001b[0m\n",
      "\u001b[34m3072/8355 images trained...\u001b[0m\n",
      "\u001b[34m3584/8355 images trained...\u001b[0m\n",
      "\u001b[34m4096/8355 images trained...\u001b[0m\n",
      "\u001b[34m4608/8355 images trained...\u001b[0m\n",
      "\u001b[34m5120/8355 images trained...\u001b[0m\n",
      "\u001b[34m5632/8355 images trained...\u001b[0m\n",
      "\u001b[34m6144/8355 images trained...\u001b[0m\n",
      "\u001b[34m6656/8355 images trained...\u001b[0m\n",
      "\u001b[34m7168/8355 images trained...\u001b[0m\n",
      "\u001b[34m7680/8355 images trained...\u001b[0m\n",
      "\u001b[34m8192/8355 images trained...\u001b[0m\n",
      "\u001b[34m8355/8355 images trained...\u001b[0m\n",
      "\u001b[34mAccuracy: 32.615200478755234%, Testing Loss: 1.4675742721785905\u001b[0m\n",
      "\u001b[34mAccuracy: 30.72866730584851%, Testing Loss: 1.5212025253793309\u001b[0m\n",
      "\u001b[34m512/8355 images trained...\u001b[0m\n",
      "\u001b[34m1024/8355 images trained...\u001b[0m\n",
      "\u001b[34m1536/8355 images trained...\u001b[0m\n",
      "\u001b[34m2048/8355 images trained...\u001b[0m\n",
      "\u001b[34m2560/8355 images trained...\u001b[0m\n",
      "\u001b[34m3072/8355 images trained...\u001b[0m\n",
      "\u001b[34m3584/8355 images trained...\u001b[0m\n",
      "\u001b[34m4096/8355 images trained...\u001b[0m\n",
      "\u001b[34m4608/8355 images trained...\u001b[0m\n",
      "\u001b[34m5120/8355 images trained...\u001b[0m\n",
      "\u001b[34m5632/8355 images trained...\u001b[0m\n",
      "\u001b[34m6144/8355 images trained...\u001b[0m\n",
      "\u001b[34m6656/8355 images trained...\u001b[0m\n",
      "\u001b[34m7168/8355 images trained...\u001b[0m\n",
      "\u001b[34m7680/8355 images trained...\u001b[0m\n",
      "\u001b[34m8192/8355 images trained...\u001b[0m\n",
      "\u001b[34m8355/8355 images trained...\u001b[0m\n",
      "\u001b[34mAccuracy: 32.93836026331538%, Testing Loss: 1.4645368534957912\u001b[0m\n",
      "\u001b[34mAccuracy: 30.201342281879196%, Testing Loss: 1.4863957531271594\u001b[0m\n",
      "\u001b[34mDownloading: \"https://download.pytorch.org/models/resnet18-5c106cde.pth\" to /root/.cache/torch/hub/checkpoints/resnet18-5c106cde.pth\u001b[0m\n",
      "\u001b[34m#015  0%|          | 0.00/44.7M [00:00<?, ?B/s]#015 87%|████████▋ | 38.8M/44.7M [00:00<00:00, 407MB/s]#015100%|██████████| 44.7M/44.7M [00:00<00:00, 406MB/s]\u001b[0m\n",
      "\u001b[34m2023-03-17 23:19:01,189 sagemaker-training-toolkit INFO     Reporting training SUCCESS\u001b[0m\n",
      "\n",
      "2023-03-17 23:19:11 Uploading - Uploading generated training model\n",
      "2023-03-17 23:19:31 Completed - Training job completed\n",
      "ProfilerReport-1679092628: NoIssuesFound\n",
      "Training seconds: 2382\n",
      "Billable seconds: 2382\n"
     ]
    }
   ],
   "source": [
    "# TODO: Fit your estimator\n",
    "estimator.fit({\"train\": train_path, \"test\": test_path})\n"
   ]
  },
  {
   "cell_type": "markdown",
   "metadata": {
    "id": "PDsmq6-Ve-X-"
   },
   "source": [
    "## Standout Suggestions\n",
    "You do not need to perform the tasks below to finish your project. However, you can attempt these tasks to turn your project into a more advanced portfolio piece."
   ]
  },
  {
   "cell_type": "markdown",
   "metadata": {
    "id": "CYWdDvqye-X-"
   },
   "source": [
    "### Hyperparameter Tuning\n",
    "**TODO:** Here you can perform hyperparameter tuning to increase the performance of your model. You are encouraged to \n",
    "- tune as many hyperparameters as you can to get the best performance from your model\n",
    "- explain why you chose to tune those particular hyperparameters and the ranges.\n"
   ]
  },
  {
   "cell_type": "code",
   "execution_count": 37,
   "metadata": {
    "id": "2YyUy_rpe-X-",
    "tags": []
   },
   "outputs": [],
   "source": [
    "\n",
    "hyperparameter_ranges = {\n",
    "    \"lr\": ContinuousParameter(0.001, 0.1),\n",
    "    \"batch-size\": CategoricalParameter([32, 64, 256]),\n",
    "    \"epochs\": IntegerParameter(3, 9)\n",
    "}\n",
    "\n"
   ]
  },
  {
   "cell_type": "code",
   "execution_count": 38,
   "metadata": {
    "id": "v64mZAaKe-X_",
    "tags": []
   },
   "outputs": [],
   "source": [
    "#TODO: Create your training estimator\n",
    "objective_metric_name = \"average test accuracy\"\n",
    "objective_type = \"Maximize\"\n",
    "metric_definitions = [{\"Name\": \"average test accuracy\", \"Regex\": \"Testing Loss: ([0-9\\\\.]+)\"}]\n"
   ]
  },
  {
   "cell_type": "code",
   "execution_count": 40,
   "metadata": {
    "id": "G5SiK768e-X_",
    "tags": []
   },
   "outputs": [],
   "source": [
    "# TODO: Fit your estimator\n",
    "tuner = HyperparameterTuner(\n",
    "    estimator,\n",
    "    objective_metric_name,\n",
    "    hyperparameter_ranges,\n",
    "    metric_definitions,\n",
    "    max_jobs=6,\n",
    "    max_parallel_jobs=2,\n",
    "    objective_type=objective_type,\n",
    ")"
   ]
  },
  {
   "cell_type": "code",
   "execution_count": null,
   "metadata": {
    "id": "5DPa1ylWe-YA",
    "outputId": "17454fbe-e778-421c-b460-9ec8970e0321",
    "tags": []
   },
   "outputs": [
    {
     "name": "stdout",
     "output_type": "stream",
     "text": [
      "..................................................................................................................................................................................................................................................................................................................................................................................................................................................................................................................................................................................................................................................................................................................................................................................................................................................................................................................................................................................................................................................................................................................................................................................................................................................................................................................................................................................................................................................................................................................................................................................................................................................................................................................................................................................................................................!\n"
     ]
    }
   ],
   "source": [
    "# TODO: Find the best hyperparameters\n",
    "tuner.fit({\"train\": train_path, \"test\": test_path})\n",
    " # TODO: Remember to include your data channels\n"
   ]
  },
  {
   "cell_type": "code",
   "execution_count": 43,
   "metadata": {
    "id": "zozCMTO8e-YA",
    "tags": []
   },
   "outputs": [
    {
     "data": {
      "text/html": [
       "<div>\n",
       "<style scoped>\n",
       "    .dataframe tbody tr th:only-of-type {\n",
       "        vertical-align: middle;\n",
       "    }\n",
       "\n",
       "    .dataframe tbody tr th {\n",
       "        vertical-align: top;\n",
       "    }\n",
       "\n",
       "    .dataframe thead th {\n",
       "        text-align: right;\n",
       "    }\n",
       "</style>\n",
       "<table border=\"1\" class=\"dataframe\">\n",
       "  <thead>\n",
       "    <tr style=\"text-align: right;\">\n",
       "      <th></th>\n",
       "      <th>batch-size</th>\n",
       "      <th>epochs</th>\n",
       "      <th>lr</th>\n",
       "      <th>TrainingJobName</th>\n",
       "      <th>TrainingJobStatus</th>\n",
       "      <th>FinalObjectiveValue</th>\n",
       "      <th>TrainingStartTime</th>\n",
       "      <th>TrainingEndTime</th>\n",
       "      <th>TrainingElapsedTimeSeconds</th>\n",
       "    </tr>\n",
       "  </thead>\n",
       "  <tbody>\n",
       "    <tr>\n",
       "      <th>0</th>\n",
       "      <td>\"32\"</td>\n",
       "      <td>5.0</td>\n",
       "      <td>0.100000</td>\n",
       "      <td>pytorch-training-230317-2322-006-2a1d2546</td>\n",
       "      <td>Completed</td>\n",
       "      <td>13.260614</td>\n",
       "      <td>2023-03-18 01:19:19+00:00</td>\n",
       "      <td>2023-03-18 01:51:44+00:00</td>\n",
       "      <td>1945.0</td>\n",
       "    </tr>\n",
       "    <tr>\n",
       "      <th>1</th>\n",
       "      <td>\"32\"</td>\n",
       "      <td>6.0</td>\n",
       "      <td>0.020098</td>\n",
       "      <td>pytorch-training-230317-2322-005-b2e5b688</td>\n",
       "      <td>Completed</td>\n",
       "      <td>3.464577</td>\n",
       "      <td>2023-03-18 01:01:55+00:00</td>\n",
       "      <td>2023-03-18 01:41:27+00:00</td>\n",
       "      <td>2372.0</td>\n",
       "    </tr>\n",
       "    <tr>\n",
       "      <th>3</th>\n",
       "      <td>\"64\"</td>\n",
       "      <td>8.0</td>\n",
       "      <td>0.002921</td>\n",
       "      <td>pytorch-training-230317-2322-003-ba4f5010</td>\n",
       "      <td>Completed</td>\n",
       "      <td>1.533824</td>\n",
       "      <td>2023-03-17 23:58:20+00:00</td>\n",
       "      <td>2023-03-18 00:54:41+00:00</td>\n",
       "      <td>3381.0</td>\n",
       "    </tr>\n",
       "    <tr>\n",
       "      <th>5</th>\n",
       "      <td>\"32\"</td>\n",
       "      <td>5.0</td>\n",
       "      <td>0.001889</td>\n",
       "      <td>pytorch-training-230317-2322-001-c800af0b</td>\n",
       "      <td>Completed</td>\n",
       "      <td>1.533089</td>\n",
       "      <td>2023-03-17 23:24:03+00:00</td>\n",
       "      <td>2023-03-17 23:58:03+00:00</td>\n",
       "      <td>2040.0</td>\n",
       "    </tr>\n",
       "    <tr>\n",
       "      <th>2</th>\n",
       "      <td>\"256\"</td>\n",
       "      <td>9.0</td>\n",
       "      <td>0.002187</td>\n",
       "      <td>pytorch-training-230317-2322-004-f9898712</td>\n",
       "      <td>Completed</td>\n",
       "      <td>1.503722</td>\n",
       "      <td>2023-03-18 00:10:37+00:00</td>\n",
       "      <td>2023-03-18 01:18:20+00:00</td>\n",
       "      <td>4063.0</td>\n",
       "    </tr>\n",
       "    <tr>\n",
       "      <th>4</th>\n",
       "      <td>\"32\"</td>\n",
       "      <td>7.0</td>\n",
       "      <td>0.001915</td>\n",
       "      <td>pytorch-training-230317-2322-002-39c52b8b</td>\n",
       "      <td>Completed</td>\n",
       "      <td>1.499674</td>\n",
       "      <td>2023-03-17 23:24:03+00:00</td>\n",
       "      <td>2023-03-18 00:09:16+00:00</td>\n",
       "      <td>2713.0</td>\n",
       "    </tr>\n",
       "  </tbody>\n",
       "</table>\n",
       "</div>"
      ],
      "text/plain": [
       "  batch-size  epochs        lr                            TrainingJobName  \\\n",
       "0       \"32\"     5.0  0.100000  pytorch-training-230317-2322-006-2a1d2546   \n",
       "1       \"32\"     6.0  0.020098  pytorch-training-230317-2322-005-b2e5b688   \n",
       "3       \"64\"     8.0  0.002921  pytorch-training-230317-2322-003-ba4f5010   \n",
       "5       \"32\"     5.0  0.001889  pytorch-training-230317-2322-001-c800af0b   \n",
       "2      \"256\"     9.0  0.002187  pytorch-training-230317-2322-004-f9898712   \n",
       "4       \"32\"     7.0  0.001915  pytorch-training-230317-2322-002-39c52b8b   \n",
       "\n",
       "  TrainingJobStatus  FinalObjectiveValue         TrainingStartTime  \\\n",
       "0         Completed            13.260614 2023-03-18 01:19:19+00:00   \n",
       "1         Completed             3.464577 2023-03-18 01:01:55+00:00   \n",
       "3         Completed             1.533824 2023-03-17 23:58:20+00:00   \n",
       "5         Completed             1.533089 2023-03-17 23:24:03+00:00   \n",
       "2         Completed             1.503722 2023-03-18 00:10:37+00:00   \n",
       "4         Completed             1.499674 2023-03-17 23:24:03+00:00   \n",
       "\n",
       "            TrainingEndTime  TrainingElapsedTimeSeconds  \n",
       "0 2023-03-18 01:51:44+00:00                      1945.0  \n",
       "1 2023-03-18 01:41:27+00:00                      2372.0  \n",
       "3 2023-03-18 00:54:41+00:00                      3381.0  \n",
       "5 2023-03-17 23:58:03+00:00                      2040.0  \n",
       "2 2023-03-18 01:18:20+00:00                      4063.0  \n",
       "4 2023-03-18 00:09:16+00:00                      2713.0  "
      ]
     },
     "execution_count": 43,
     "metadata": {},
     "output_type": "execute_result"
    }
   ],
   "source": [
    "exp = HyperparameterTuningJobAnalytics(\n",
    "  hyperparameter_tuning_job_name='pytorch-training-230317-2322')\n",
    "\n",
    "jobs = exp.dataframe()\n",
    "\n",
    "jobs.sort_values('FinalObjectiveValue', ascending=0)"
   ]
  },
  {
   "cell_type": "code",
   "execution_count": 46,
   "metadata": {
    "id": "5X2WBIace-YB",
    "tags": []
   },
   "outputs": [],
   "source": [
    "tuner_metrics = sagemaker.HyperparameterTuningJobAnalytics(hyperparameter_tuning_job_name='pytorch-training-230317-2322')"
   ]
  },
  {
   "cell_type": "code",
   "execution_count": 47,
   "metadata": {
    "id": "h8rrag8Me-YB",
    "tags": []
   },
   "outputs": [
    {
     "name": "stdout",
     "output_type": "stream",
     "text": [
      "The total training time is 4.59 hours\n"
     ]
    },
    {
     "data": {
      "text/plain": [
       "Completed    6\n",
       "Name: TrainingJobStatus, dtype: int64"
      ]
     },
     "execution_count": 47,
     "metadata": {},
     "output_type": "execute_result"
    }
   ],
   "source": [
    "df = tuner_metrics.dataframe()\n",
    "total_time = df[\"TrainingElapsedTimeSeconds\"].sum() / 3600\n",
    "print(\"The total training time is {:.2f} hours\".format(total_time))\n",
    "df[\"TrainingJobStatus\"].value_counts()"
   ]
  },
  {
   "cell_type": "code",
   "execution_count": 48,
   "metadata": {
    "id": "jKjFIum-e-YB",
    "tags": []
   },
   "outputs": [
    {
     "data": {
      "text/html": [
       "<div>\n",
       "<style scoped>\n",
       "    .dataframe tbody tr th:only-of-type {\n",
       "        vertical-align: middle;\n",
       "    }\n",
       "\n",
       "    .dataframe tbody tr th {\n",
       "        vertical-align: top;\n",
       "    }\n",
       "\n",
       "    .dataframe thead th {\n",
       "        text-align: right;\n",
       "    }\n",
       "</style>\n",
       "<table border=\"1\" class=\"dataframe\">\n",
       "  <thead>\n",
       "    <tr style=\"text-align: right;\">\n",
       "      <th></th>\n",
       "      <th>batch-size</th>\n",
       "      <th>epochs</th>\n",
       "      <th>lr</th>\n",
       "      <th>TrainingJobName</th>\n",
       "      <th>TrainingJobStatus</th>\n",
       "      <th>FinalObjectiveValue</th>\n",
       "      <th>TrainingStartTime</th>\n",
       "      <th>TrainingEndTime</th>\n",
       "      <th>TrainingElapsedTimeSeconds</th>\n",
       "    </tr>\n",
       "  </thead>\n",
       "  <tbody>\n",
       "    <tr>\n",
       "      <th>0</th>\n",
       "      <td>\"32\"</td>\n",
       "      <td>5.0</td>\n",
       "      <td>0.100000</td>\n",
       "      <td>pytorch-training-230317-2322-006-2a1d2546</td>\n",
       "      <td>Completed</td>\n",
       "      <td>13.260614</td>\n",
       "      <td>2023-03-18 01:19:19+00:00</td>\n",
       "      <td>2023-03-18 01:51:44+00:00</td>\n",
       "      <td>1945.0</td>\n",
       "    </tr>\n",
       "    <tr>\n",
       "      <th>1</th>\n",
       "      <td>\"32\"</td>\n",
       "      <td>6.0</td>\n",
       "      <td>0.020098</td>\n",
       "      <td>pytorch-training-230317-2322-005-b2e5b688</td>\n",
       "      <td>Completed</td>\n",
       "      <td>3.464577</td>\n",
       "      <td>2023-03-18 01:01:55+00:00</td>\n",
       "      <td>2023-03-18 01:41:27+00:00</td>\n",
       "      <td>2372.0</td>\n",
       "    </tr>\n",
       "    <tr>\n",
       "      <th>2</th>\n",
       "      <td>\"256\"</td>\n",
       "      <td>9.0</td>\n",
       "      <td>0.002187</td>\n",
       "      <td>pytorch-training-230317-2322-004-f9898712</td>\n",
       "      <td>Completed</td>\n",
       "      <td>1.503722</td>\n",
       "      <td>2023-03-18 00:10:37+00:00</td>\n",
       "      <td>2023-03-18 01:18:20+00:00</td>\n",
       "      <td>4063.0</td>\n",
       "    </tr>\n",
       "    <tr>\n",
       "      <th>3</th>\n",
       "      <td>\"64\"</td>\n",
       "      <td>8.0</td>\n",
       "      <td>0.002921</td>\n",
       "      <td>pytorch-training-230317-2322-003-ba4f5010</td>\n",
       "      <td>Completed</td>\n",
       "      <td>1.533824</td>\n",
       "      <td>2023-03-17 23:58:20+00:00</td>\n",
       "      <td>2023-03-18 00:54:41+00:00</td>\n",
       "      <td>3381.0</td>\n",
       "    </tr>\n",
       "    <tr>\n",
       "      <th>4</th>\n",
       "      <td>\"32\"</td>\n",
       "      <td>7.0</td>\n",
       "      <td>0.001915</td>\n",
       "      <td>pytorch-training-230317-2322-002-39c52b8b</td>\n",
       "      <td>Completed</td>\n",
       "      <td>1.499674</td>\n",
       "      <td>2023-03-17 23:24:03+00:00</td>\n",
       "      <td>2023-03-18 00:09:16+00:00</td>\n",
       "      <td>2713.0</td>\n",
       "    </tr>\n",
       "    <tr>\n",
       "      <th>5</th>\n",
       "      <td>\"32\"</td>\n",
       "      <td>5.0</td>\n",
       "      <td>0.001889</td>\n",
       "      <td>pytorch-training-230317-2322-001-c800af0b</td>\n",
       "      <td>Completed</td>\n",
       "      <td>1.533089</td>\n",
       "      <td>2023-03-17 23:24:03+00:00</td>\n",
       "      <td>2023-03-17 23:58:03+00:00</td>\n",
       "      <td>2040.0</td>\n",
       "    </tr>\n",
       "  </tbody>\n",
       "</table>\n",
       "</div>"
      ],
      "text/plain": [
       "  batch-size  epochs        lr                            TrainingJobName  \\\n",
       "0       \"32\"     5.0  0.100000  pytorch-training-230317-2322-006-2a1d2546   \n",
       "1       \"32\"     6.0  0.020098  pytorch-training-230317-2322-005-b2e5b688   \n",
       "2      \"256\"     9.0  0.002187  pytorch-training-230317-2322-004-f9898712   \n",
       "3       \"64\"     8.0  0.002921  pytorch-training-230317-2322-003-ba4f5010   \n",
       "4       \"32\"     7.0  0.001915  pytorch-training-230317-2322-002-39c52b8b   \n",
       "5       \"32\"     5.0  0.001889  pytorch-training-230317-2322-001-c800af0b   \n",
       "\n",
       "  TrainingJobStatus  FinalObjectiveValue         TrainingStartTime  \\\n",
       "0         Completed            13.260614 2023-03-18 01:19:19+00:00   \n",
       "1         Completed             3.464577 2023-03-18 01:01:55+00:00   \n",
       "2         Completed             1.503722 2023-03-18 00:10:37+00:00   \n",
       "3         Completed             1.533824 2023-03-17 23:58:20+00:00   \n",
       "4         Completed             1.499674 2023-03-17 23:24:03+00:00   \n",
       "5         Completed             1.533089 2023-03-17 23:24:03+00:00   \n",
       "\n",
       "            TrainingEndTime  TrainingElapsedTimeSeconds  \n",
       "0 2023-03-18 01:51:44+00:00                      1945.0  \n",
       "1 2023-03-18 01:41:27+00:00                      2372.0  \n",
       "2 2023-03-18 01:18:20+00:00                      4063.0  \n",
       "3 2023-03-18 00:54:41+00:00                      3381.0  \n",
       "4 2023-03-18 00:09:16+00:00                      2713.0  \n",
       "5 2023-03-17 23:58:03+00:00                      2040.0  "
      ]
     },
     "execution_count": 48,
     "metadata": {},
     "output_type": "execute_result"
    }
   ],
   "source": [
    "df[df.TrainingJobStatus == \"Completed\"]"
   ]
  },
  {
   "cell_type": "code",
   "execution_count": 50,
   "metadata": {
    "id": "81hDMKYoe-YB",
    "tags": []
   },
   "outputs": [
    {
     "data": {
      "text/html": [
       "\n",
       "    <div class=\"bk-root\">\n",
       "        <a href=\"https://bokeh.org\" target=\"_blank\" class=\"bk-logo bk-logo-small bk-logo-notebook\"></a>\n",
       "        <span id=\"1003\">Loading BokehJS ...</span>\n",
       "    </div>"
      ]
     },
     "metadata": {},
     "output_type": "display_data"
    },
    {
     "data": {
      "application/javascript": [
       "\n",
       "(function(root) {\n",
       "  function now() {\n",
       "    return new Date();\n",
       "  }\n",
       "\n",
       "  var force = true;\n",
       "\n",
       "  if (typeof root._bokeh_onload_callbacks === \"undefined\" || force === true) {\n",
       "    root._bokeh_onload_callbacks = [];\n",
       "    root._bokeh_is_loading = undefined;\n",
       "  }\n",
       "\n",
       "  var JS_MIME_TYPE = 'application/javascript';\n",
       "  var HTML_MIME_TYPE = 'text/html';\n",
       "  var EXEC_MIME_TYPE = 'application/vnd.bokehjs_exec.v0+json';\n",
       "  var CLASS_NAME = 'output_bokeh rendered_html';\n",
       "\n",
       "  /**\n",
       "   * Render data to the DOM node\n",
       "   */\n",
       "  function render(props, node) {\n",
       "    var script = document.createElement(\"script\");\n",
       "    node.appendChild(script);\n",
       "  }\n",
       "\n",
       "  /**\n",
       "   * Handle when an output is cleared or removed\n",
       "   */\n",
       "  function handleClearOutput(event, handle) {\n",
       "    var cell = handle.cell;\n",
       "\n",
       "    var id = cell.output_area._bokeh_element_id;\n",
       "    var server_id = cell.output_area._bokeh_server_id;\n",
       "    // Clean up Bokeh references\n",
       "    if (id != null && id in Bokeh.index) {\n",
       "      Bokeh.index[id].model.document.clear();\n",
       "      delete Bokeh.index[id];\n",
       "    }\n",
       "\n",
       "    if (server_id !== undefined) {\n",
       "      // Clean up Bokeh references\n",
       "      var cmd = \"from bokeh.io.state import curstate; print(curstate().uuid_to_server['\" + server_id + \"'].get_sessions()[0].document.roots[0]._id)\";\n",
       "      cell.notebook.kernel.execute(cmd, {\n",
       "        iopub: {\n",
       "          output: function(msg) {\n",
       "            var id = msg.content.text.trim();\n",
       "            if (id in Bokeh.index) {\n",
       "              Bokeh.index[id].model.document.clear();\n",
       "              delete Bokeh.index[id];\n",
       "            }\n",
       "          }\n",
       "        }\n",
       "      });\n",
       "      // Destroy server and session\n",
       "      var cmd = \"import bokeh.io.notebook as ion; ion.destroy_server('\" + server_id + \"')\";\n",
       "      cell.notebook.kernel.execute(cmd);\n",
       "    }\n",
       "  }\n",
       "\n",
       "  /**\n",
       "   * Handle when a new output is added\n",
       "   */\n",
       "  function handleAddOutput(event, handle) {\n",
       "    var output_area = handle.output_area;\n",
       "    var output = handle.output;\n",
       "\n",
       "    // limit handleAddOutput to display_data with EXEC_MIME_TYPE content only\n",
       "    if ((output.output_type != \"display_data\") || (!Object.prototype.hasOwnProperty.call(output.data, EXEC_MIME_TYPE))) {\n",
       "      return\n",
       "    }\n",
       "\n",
       "    var toinsert = output_area.element.find(\".\" + CLASS_NAME.split(' ')[0]);\n",
       "\n",
       "    if (output.metadata[EXEC_MIME_TYPE][\"id\"] !== undefined) {\n",
       "      toinsert[toinsert.length - 1].firstChild.textContent = output.data[JS_MIME_TYPE];\n",
       "      // store reference to embed id on output_area\n",
       "      output_area._bokeh_element_id = output.metadata[EXEC_MIME_TYPE][\"id\"];\n",
       "    }\n",
       "    if (output.metadata[EXEC_MIME_TYPE][\"server_id\"] !== undefined) {\n",
       "      var bk_div = document.createElement(\"div\");\n",
       "      bk_div.innerHTML = output.data[HTML_MIME_TYPE];\n",
       "      var script_attrs = bk_div.children[0].attributes;\n",
       "      for (var i = 0; i < script_attrs.length; i++) {\n",
       "        toinsert[toinsert.length - 1].firstChild.setAttribute(script_attrs[i].name, script_attrs[i].value);\n",
       "        toinsert[toinsert.length - 1].firstChild.textContent = bk_div.children[0].textContent\n",
       "      }\n",
       "      // store reference to server id on output_area\n",
       "      output_area._bokeh_server_id = output.metadata[EXEC_MIME_TYPE][\"server_id\"];\n",
       "    }\n",
       "  }\n",
       "\n",
       "  function register_renderer(events, OutputArea) {\n",
       "\n",
       "    function append_mime(data, metadata, element) {\n",
       "      // create a DOM node to render to\n",
       "      var toinsert = this.create_output_subarea(\n",
       "        metadata,\n",
       "        CLASS_NAME,\n",
       "        EXEC_MIME_TYPE\n",
       "      );\n",
       "      this.keyboard_manager.register_events(toinsert);\n",
       "      // Render to node\n",
       "      var props = {data: data, metadata: metadata[EXEC_MIME_TYPE]};\n",
       "      render(props, toinsert[toinsert.length - 1]);\n",
       "      element.append(toinsert);\n",
       "      return toinsert\n",
       "    }\n",
       "\n",
       "    /* Handle when an output is cleared or removed */\n",
       "    events.on('clear_output.CodeCell', handleClearOutput);\n",
       "    events.on('delete.Cell', handleClearOutput);\n",
       "\n",
       "    /* Handle when a new output is added */\n",
       "    events.on('output_added.OutputArea', handleAddOutput);\n",
       "\n",
       "    /**\n",
       "     * Register the mime type and append_mime function with output_area\n",
       "     */\n",
       "    OutputArea.prototype.register_mime_type(EXEC_MIME_TYPE, append_mime, {\n",
       "      /* Is output safe? */\n",
       "      safe: true,\n",
       "      /* Index of renderer in `output_area.display_order` */\n",
       "      index: 0\n",
       "    });\n",
       "  }\n",
       "\n",
       "  // register the mime type if in Jupyter Notebook environment and previously unregistered\n",
       "  if (root.Jupyter !== undefined) {\n",
       "    var events = require('base/js/events');\n",
       "    var OutputArea = require('notebook/js/outputarea').OutputArea;\n",
       "\n",
       "    if (OutputArea.prototype.mime_types().indexOf(EXEC_MIME_TYPE) == -1) {\n",
       "      register_renderer(events, OutputArea);\n",
       "    }\n",
       "  }\n",
       "\n",
       "  \n",
       "  if (typeof (root._bokeh_timeout) === \"undefined\" || force === true) {\n",
       "    root._bokeh_timeout = Date.now() + 5000;\n",
       "    root._bokeh_failed_load = false;\n",
       "  }\n",
       "\n",
       "  var NB_LOAD_WARNING = {'data': {'text/html':\n",
       "     \"<div style='background-color: #fdd'>\\n\"+\n",
       "     \"<p>\\n\"+\n",
       "     \"BokehJS does not appear to have successfully loaded. If loading BokehJS from CDN, this \\n\"+\n",
       "     \"may be due to a slow or bad network connection. Possible fixes:\\n\"+\n",
       "     \"</p>\\n\"+\n",
       "     \"<ul>\\n\"+\n",
       "     \"<li>re-rerun `output_notebook()` to attempt to load from CDN again, or</li>\\n\"+\n",
       "     \"<li>use INLINE resources instead, as so:</li>\\n\"+\n",
       "     \"</ul>\\n\"+\n",
       "     \"<code>\\n\"+\n",
       "     \"from bokeh.resources import INLINE\\n\"+\n",
       "     \"output_notebook(resources=INLINE)\\n\"+\n",
       "     \"</code>\\n\"+\n",
       "     \"</div>\"}};\n",
       "\n",
       "  function display_loaded() {\n",
       "    var el = document.getElementById(\"1003\");\n",
       "    if (el != null) {\n",
       "      el.textContent = \"BokehJS is loading...\";\n",
       "    }\n",
       "    if (root.Bokeh !== undefined) {\n",
       "      if (el != null) {\n",
       "        el.textContent = \"BokehJS \" + root.Bokeh.version + \" successfully loaded.\";\n",
       "      }\n",
       "    } else if (Date.now() < root._bokeh_timeout) {\n",
       "      setTimeout(display_loaded, 100)\n",
       "    }\n",
       "  }\n",
       "\n",
       "\n",
       "  function run_callbacks() {\n",
       "    try {\n",
       "      root._bokeh_onload_callbacks.forEach(function(callback) {\n",
       "        if (callback != null)\n",
       "          callback();\n",
       "      });\n",
       "    } finally {\n",
       "      delete root._bokeh_onload_callbacks\n",
       "    }\n",
       "    console.debug(\"Bokeh: all callbacks have finished\");\n",
       "  }\n",
       "\n",
       "  function load_libs(css_urls, js_urls, callback) {\n",
       "    if (css_urls == null) css_urls = [];\n",
       "    if (js_urls == null) js_urls = [];\n",
       "\n",
       "    root._bokeh_onload_callbacks.push(callback);\n",
       "    if (root._bokeh_is_loading > 0) {\n",
       "      console.debug(\"Bokeh: BokehJS is being loaded, scheduling callback at\", now());\n",
       "      return null;\n",
       "    }\n",
       "    if (js_urls == null || js_urls.length === 0) {\n",
       "      run_callbacks();\n",
       "      return null;\n",
       "    }\n",
       "    console.debug(\"Bokeh: BokehJS not loaded, scheduling load and callback at\", now());\n",
       "    root._bokeh_is_loading = css_urls.length + js_urls.length;\n",
       "\n",
       "    function on_load() {\n",
       "      root._bokeh_is_loading--;\n",
       "      if (root._bokeh_is_loading === 0) {\n",
       "        console.debug(\"Bokeh: all BokehJS libraries/stylesheets loaded\");\n",
       "        run_callbacks()\n",
       "      }\n",
       "    }\n",
       "\n",
       "    function on_error(url) {\n",
       "      console.error(\"failed to load \" + url);\n",
       "    }\n",
       "\n",
       "    for (let i = 0; i < css_urls.length; i++) {\n",
       "      const url = css_urls[i];\n",
       "      const element = document.createElement(\"link\");\n",
       "      element.onload = on_load;\n",
       "      element.onerror = on_error.bind(null, url);\n",
       "      element.rel = \"stylesheet\";\n",
       "      element.type = \"text/css\";\n",
       "      element.href = url;\n",
       "      console.debug(\"Bokeh: injecting link tag for BokehJS stylesheet: \", url);\n",
       "      document.body.appendChild(element);\n",
       "    }\n",
       "\n",
       "    const hashes = {\"https://cdn.bokeh.org/bokeh/release/bokeh-2.3.3.min.js\": \"dM3QQsP+wXdHg42wTqW85BjZQdLNNIXqlPw/BgKoExPmTG7ZLML4EGqLMfqHT6ON\", \"https://cdn.bokeh.org/bokeh/release/bokeh-tables-2.3.3.min.js\": \"8x57I4YuIfu8XyZfFo0XVr2WAT8EK4rh/uDe3wF7YuW2FNUSNEpJbsPaB1nJ2fz2\", \"https://cdn.bokeh.org/bokeh/release/bokeh-widgets-2.3.3.min.js\": \"3QTqdz9LyAm2i0sG5XTePsHec3UHWwVsrOL68SYRoAXsafvfAyqtQ+h440+qIBhS\"};\n",
       "\n",
       "    for (let i = 0; i < js_urls.length; i++) {\n",
       "      const url = js_urls[i];\n",
       "      const element = document.createElement('script');\n",
       "      element.onload = on_load;\n",
       "      element.onerror = on_error.bind(null, url);\n",
       "      element.async = false;\n",
       "      element.src = url;\n",
       "      if (url in hashes) {\n",
       "        element.crossOrigin = \"anonymous\";\n",
       "        element.integrity = \"sha384-\" + hashes[url];\n",
       "      }\n",
       "      console.debug(\"Bokeh: injecting script tag for BokehJS library: \", url);\n",
       "      document.head.appendChild(element);\n",
       "    }\n",
       "  };\n",
       "\n",
       "  function inject_raw_css(css) {\n",
       "    const element = document.createElement(\"style\");\n",
       "    element.appendChild(document.createTextNode(css));\n",
       "    document.body.appendChild(element);\n",
       "  }\n",
       "\n",
       "  \n",
       "  var js_urls = [\"https://cdn.bokeh.org/bokeh/release/bokeh-2.3.3.min.js\", \"https://cdn.bokeh.org/bokeh/release/bokeh-widgets-2.3.3.min.js\", \"https://cdn.bokeh.org/bokeh/release/bokeh-tables-2.3.3.min.js\"];\n",
       "  var css_urls = [];\n",
       "  \n",
       "\n",
       "  var inline_js = [\n",
       "    function(Bokeh) {\n",
       "      Bokeh.set_log_level(\"info\");\n",
       "    },\n",
       "    function(Bokeh) {\n",
       "    \n",
       "    \n",
       "    }\n",
       "  ];\n",
       "\n",
       "  function run_inline_js() {\n",
       "    \n",
       "    if (root.Bokeh !== undefined || force === true) {\n",
       "      \n",
       "    for (var i = 0; i < inline_js.length; i++) {\n",
       "      inline_js[i].call(root, root.Bokeh);\n",
       "    }\n",
       "    if (force === true) {\n",
       "        display_loaded();\n",
       "      }} else if (Date.now() < root._bokeh_timeout) {\n",
       "      setTimeout(run_inline_js, 100);\n",
       "    } else if (!root._bokeh_failed_load) {\n",
       "      console.log(\"Bokeh: BokehJS failed to load within specified timeout.\");\n",
       "      root._bokeh_failed_load = true;\n",
       "    } else if (force !== true) {\n",
       "      var cell = $(document.getElementById(\"1003\")).parents('.cell').data().cell;\n",
       "      cell.output_area.append_execute_result(NB_LOAD_WARNING)\n",
       "    }\n",
       "\n",
       "  }\n",
       "\n",
       "  if (root._bokeh_is_loading === 0) {\n",
       "    console.debug(\"Bokeh: BokehJS loaded, going straight to plotting\");\n",
       "    run_inline_js();\n",
       "  } else {\n",
       "    load_libs(css_urls, js_urls, function() {\n",
       "      console.debug(\"Bokeh: BokehJS plotting callback run at\", now());\n",
       "      run_inline_js();\n",
       "    });\n",
       "  }\n",
       "}(window));"
      ],
      "application/vnd.bokehjs_load.v0+json": "\n(function(root) {\n  function now() {\n    return new Date();\n  }\n\n  var force = true;\n\n  if (typeof root._bokeh_onload_callbacks === \"undefined\" || force === true) {\n    root._bokeh_onload_callbacks = [];\n    root._bokeh_is_loading = undefined;\n  }\n\n  \n\n  \n  if (typeof (root._bokeh_timeout) === \"undefined\" || force === true) {\n    root._bokeh_timeout = Date.now() + 5000;\n    root._bokeh_failed_load = false;\n  }\n\n  var NB_LOAD_WARNING = {'data': {'text/html':\n     \"<div style='background-color: #fdd'>\\n\"+\n     \"<p>\\n\"+\n     \"BokehJS does not appear to have successfully loaded. If loading BokehJS from CDN, this \\n\"+\n     \"may be due to a slow or bad network connection. Possible fixes:\\n\"+\n     \"</p>\\n\"+\n     \"<ul>\\n\"+\n     \"<li>re-rerun `output_notebook()` to attempt to load from CDN again, or</li>\\n\"+\n     \"<li>use INLINE resources instead, as so:</li>\\n\"+\n     \"</ul>\\n\"+\n     \"<code>\\n\"+\n     \"from bokeh.resources import INLINE\\n\"+\n     \"output_notebook(resources=INLINE)\\n\"+\n     \"</code>\\n\"+\n     \"</div>\"}};\n\n  function display_loaded() {\n    var el = document.getElementById(\"1003\");\n    if (el != null) {\n      el.textContent = \"BokehJS is loading...\";\n    }\n    if (root.Bokeh !== undefined) {\n      if (el != null) {\n        el.textContent = \"BokehJS \" + root.Bokeh.version + \" successfully loaded.\";\n      }\n    } else if (Date.now() < root._bokeh_timeout) {\n      setTimeout(display_loaded, 100)\n    }\n  }\n\n\n  function run_callbacks() {\n    try {\n      root._bokeh_onload_callbacks.forEach(function(callback) {\n        if (callback != null)\n          callback();\n      });\n    } finally {\n      delete root._bokeh_onload_callbacks\n    }\n    console.debug(\"Bokeh: all callbacks have finished\");\n  }\n\n  function load_libs(css_urls, js_urls, callback) {\n    if (css_urls == null) css_urls = [];\n    if (js_urls == null) js_urls = [];\n\n    root._bokeh_onload_callbacks.push(callback);\n    if (root._bokeh_is_loading > 0) {\n      console.debug(\"Bokeh: BokehJS is being loaded, scheduling callback at\", now());\n      return null;\n    }\n    if (js_urls == null || js_urls.length === 0) {\n      run_callbacks();\n      return null;\n    }\n    console.debug(\"Bokeh: BokehJS not loaded, scheduling load and callback at\", now());\n    root._bokeh_is_loading = css_urls.length + js_urls.length;\n\n    function on_load() {\n      root._bokeh_is_loading--;\n      if (root._bokeh_is_loading === 0) {\n        console.debug(\"Bokeh: all BokehJS libraries/stylesheets loaded\");\n        run_callbacks()\n      }\n    }\n\n    function on_error(url) {\n      console.error(\"failed to load \" + url);\n    }\n\n    for (let i = 0; i < css_urls.length; i++) {\n      const url = css_urls[i];\n      const element = document.createElement(\"link\");\n      element.onload = on_load;\n      element.onerror = on_error.bind(null, url);\n      element.rel = \"stylesheet\";\n      element.type = \"text/css\";\n      element.href = url;\n      console.debug(\"Bokeh: injecting link tag for BokehJS stylesheet: \", url);\n      document.body.appendChild(element);\n    }\n\n    const hashes = {\"https://cdn.bokeh.org/bokeh/release/bokeh-2.3.3.min.js\": \"dM3QQsP+wXdHg42wTqW85BjZQdLNNIXqlPw/BgKoExPmTG7ZLML4EGqLMfqHT6ON\", \"https://cdn.bokeh.org/bokeh/release/bokeh-tables-2.3.3.min.js\": \"8x57I4YuIfu8XyZfFo0XVr2WAT8EK4rh/uDe3wF7YuW2FNUSNEpJbsPaB1nJ2fz2\", \"https://cdn.bokeh.org/bokeh/release/bokeh-widgets-2.3.3.min.js\": \"3QTqdz9LyAm2i0sG5XTePsHec3UHWwVsrOL68SYRoAXsafvfAyqtQ+h440+qIBhS\"};\n\n    for (let i = 0; i < js_urls.length; i++) {\n      const url = js_urls[i];\n      const element = document.createElement('script');\n      element.onload = on_load;\n      element.onerror = on_error.bind(null, url);\n      element.async = false;\n      element.src = url;\n      if (url in hashes) {\n        element.crossOrigin = \"anonymous\";\n        element.integrity = \"sha384-\" + hashes[url];\n      }\n      console.debug(\"Bokeh: injecting script tag for BokehJS library: \", url);\n      document.head.appendChild(element);\n    }\n  };\n\n  function inject_raw_css(css) {\n    const element = document.createElement(\"style\");\n    element.appendChild(document.createTextNode(css));\n    document.body.appendChild(element);\n  }\n\n  \n  var js_urls = [\"https://cdn.bokeh.org/bokeh/release/bokeh-2.3.3.min.js\", \"https://cdn.bokeh.org/bokeh/release/bokeh-widgets-2.3.3.min.js\", \"https://cdn.bokeh.org/bokeh/release/bokeh-tables-2.3.3.min.js\"];\n  var css_urls = [];\n  \n\n  var inline_js = [\n    function(Bokeh) {\n      Bokeh.set_log_level(\"info\");\n    },\n    function(Bokeh) {\n    \n    \n    }\n  ];\n\n  function run_inline_js() {\n    \n    if (root.Bokeh !== undefined || force === true) {\n      \n    for (var i = 0; i < inline_js.length; i++) {\n      inline_js[i].call(root, root.Bokeh);\n    }\n    if (force === true) {\n        display_loaded();\n      }} else if (Date.now() < root._bokeh_timeout) {\n      setTimeout(run_inline_js, 100);\n    } else if (!root._bokeh_failed_load) {\n      console.log(\"Bokeh: BokehJS failed to load within specified timeout.\");\n      root._bokeh_failed_load = true;\n    } else if (force !== true) {\n      var cell = $(document.getElementById(\"1003\")).parents('.cell').data().cell;\n      cell.output_area.append_execute_result(NB_LOAD_WARNING)\n    }\n\n  }\n\n  if (root._bokeh_is_loading === 0) {\n    console.debug(\"Bokeh: BokehJS loaded, going straight to plotting\");\n    run_inline_js();\n  } else {\n    load_libs(css_urls, js_urls, function() {\n      console.debug(\"Bokeh: BokehJS plotting callback run at\", now());\n      run_inline_js();\n    });\n  }\n}(window));"
     },
     "metadata": {},
     "output_type": "display_data"
    },
    {
     "data": {
      "text/html": [
       "\n",
       "\n",
       "\n",
       "\n",
       "\n",
       "\n",
       "  <div class=\"bk-root\" id=\"f82cc64a-1b39-4948-aa58-3482cc4334d4\" data-root-id=\"1004\"></div>\n"
      ]
     },
     "metadata": {},
     "output_type": "display_data"
    },
    {
     "data": {
      "application/javascript": [
       "(function(root) {\n",
       "  function embed_document(root) {\n",
       "    \n",
       "  var docs_json = {\"d66aadc8-5a5f-4f71-9269-b7144b9b14d6\":{\"defs\":[],\"roots\":{\"references\":[{\"attributes\":{\"below\":[{\"id\":\"1013\"}],\"center\":[{\"id\":\"1016\"},{\"id\":\"1020\"}],\"height\":400,\"left\":[{\"id\":\"1017\"}],\"renderers\":[{\"id\":\"1039\"}],\"title\":{\"id\":\"1042\"},\"toolbar\":{\"id\":\"1028\"},\"width\":900,\"x_range\":{\"id\":\"1005\"},\"x_scale\":{\"id\":\"1009\"},\"y_range\":{\"id\":\"1007\"},\"y_scale\":{\"id\":\"1011\"}},\"id\":\"1004\",\"subtype\":\"Figure\",\"type\":\"Plot\"},{\"attributes\":{\"data_source\":{\"id\":\"1035\"},\"glyph\":{\"id\":\"1037\"},\"hover_glyph\":null,\"muted_glyph\":null,\"nonselection_glyph\":{\"id\":\"1038\"},\"view\":{\"id\":\"1040\"}},\"id\":\"1039\",\"type\":\"GlyphRenderer\"},{\"attributes\":{\"overlay\":{\"id\":\"1027\"}},\"id\":\"1023\",\"type\":\"BoxZoomTool\"},{\"attributes\":{},\"id\":\"1024\",\"type\":\"SaveTool\"},{\"attributes\":{\"data\":{\"FinalObjectiveValue\":{\"__ndarray__\":\"AAAAQG+FKkAAAABAdLcLQAAAAKA+D/g/AAAAYIuK+D8AAABgqv73PwAAAOCHh/g/\",\"dtype\":\"float64\",\"order\":\"little\",\"shape\":[6]},\"TrainingElapsedTimeSeconds\":{\"__ndarray__\":\"AAAAAABknkAAAAAAAIiiQAAAAAAAvq9AAAAAAABqqkAAAAAAADKlQAAAAAAA4J9A\",\"dtype\":\"float64\",\"order\":\"little\",\"shape\":[6]},\"TrainingEndTime\":{\"__ndarray__\":\"AAA4piZveEIAgJUPJm94QgAA9rwkb3hCAICGYiNveEIAAD7JIG94QgCA7yQgb3hC\",\"dtype\":\"float64\",\"order\":\"little\",\"shape\":[6]},\"TrainingJobName\":[\"pytorch-training-230317-2322-006-2a1d2546\",\"pytorch-training-230317-2322-005-b2e5b688\",\"pytorch-training-230317-2322-004-f9898712\",\"pytorch-training-230317-2322-003-ba4f5010\",\"pytorch-training-230317-2322-002-39c52b8b\",\"pytorch-training-230317-2322-001-c800af0b\"],\"TrainingJobStatus\":[\"Completed\",\"Completed\",\"Completed\",\"Completed\",\"Completed\",\"Completed\"],\"TrainingStartTime\":{\"__ndarray__\":\"AIBdyyRveEIAgHvMI294QgCABN0gb3hCAAAWKSBveEIAgOMyHm94QgCA4zIeb3hC\",\"dtype\":\"float64\",\"order\":\"little\",\"shape\":[6]},\"batch-size\":[\"\\\"32\\\"\",\"\\\"32\\\"\",\"\\\"256\\\"\",\"\\\"64\\\"\",\"\\\"32\\\"\",\"\\\"32\\\"\"],\"epochs\":{\"__ndarray__\":\"AAAAAAAAFEAAAAAAAAAYQAAAAAAAACJAAAAAAAAAIEAAAAAAAAAcQAAAAAAAABRA\",\"dtype\":\"float64\",\"order\":\"little\",\"shape\":[6]},\"index\":[0,1,2,3,4,5],\"lr\":{\"__ndarray__\":\"mpmZmZmZuT+rzGayo5SUP7xTS9ER6mE/3poHbSXuZz9GIVCHzWBfP5f0vBLP814/\",\"dtype\":\"float64\",\"order\":\"little\",\"shape\":[6]}},\"selected\":{\"id\":\"1061\"},\"selection_policy\":{\"id\":\"1062\"}},\"id\":\"1035\",\"type\":\"ColumnDataSource\"},{\"attributes\":{},\"id\":\"1025\",\"type\":\"ResetTool\"},{\"attributes\":{\"days\":[1,4,7,10,13,16,19,22,25,28]},\"id\":\"1053\",\"type\":\"DaysTicker\"},{\"attributes\":{},\"id\":\"1026\",\"type\":\"HelpTool\"},{\"attributes\":{},\"id\":\"1009\",\"type\":\"LinearScale\"},{\"attributes\":{\"days\":[1,8,15,22]},\"id\":\"1054\",\"type\":\"DaysTicker\"},{\"attributes\":{\"active_multi\":null,\"tools\":[{\"id\":\"1021\"},{\"id\":\"1022\"},{\"id\":\"1023\"},{\"id\":\"1024\"},{\"id\":\"1025\"},{\"id\":\"1026\"}]},\"id\":\"1028\",\"type\":\"Toolbar\"},{\"attributes\":{},\"id\":\"1011\",\"type\":\"LinearScale\"},{\"attributes\":{\"days\":[1,15]},\"id\":\"1055\",\"type\":\"DaysTicker\"},{\"attributes\":{},\"id\":\"1045\",\"type\":\"DatetimeTickFormatter\"},{\"attributes\":{\"months\":[0,1,2,3,4,5,6,7,8,9,10,11]},\"id\":\"1056\",\"type\":\"MonthsTicker\"},{\"attributes\":{\"fill_color\":{\"value\":\"black\"},\"x\":{\"field\":\"TrainingStartTime\"},\"y\":{\"field\":\"FinalObjectiveValue\"}},\"id\":\"1037\",\"type\":\"Circle\"},{\"attributes\":{\"months\":[0,2,4,6,8,10]},\"id\":\"1057\",\"type\":\"MonthsTicker\"},{\"attributes\":{},\"id\":\"1005\",\"type\":\"DataRange1d\"},{\"attributes\":{},\"id\":\"1044\",\"type\":\"AllLabels\"},{\"attributes\":{\"source\":{\"id\":\"1035\"}},\"id\":\"1040\",\"type\":\"CDSView\"},{\"attributes\":{\"axis_label\":\"datetime\",\"formatter\":{\"id\":\"1045\"},\"major_label_policy\":{\"id\":\"1044\"},\"ticker\":{\"id\":\"1014\"}},\"id\":\"1013\",\"type\":\"DatetimeAxis\"},{\"attributes\":{},\"id\":\"1047\",\"type\":\"AllLabels\"},{\"attributes\":{\"months\":[0,4,8]},\"id\":\"1058\",\"type\":\"MonthsTicker\"},{\"attributes\":{\"bottom_units\":\"screen\",\"fill_alpha\":0.5,\"fill_color\":\"lightgrey\",\"left_units\":\"screen\",\"level\":\"overlay\",\"line_alpha\":1.0,\"line_color\":\"black\",\"line_dash\":[4,4],\"line_width\":2,\"right_units\":\"screen\",\"syncable\":false,\"top_units\":\"screen\"},\"id\":\"1027\",\"type\":\"BoxAnnotation\"},{\"attributes\":{\"num_minor_ticks\":5,\"tickers\":[{\"id\":\"1049\"},{\"id\":\"1050\"},{\"id\":\"1051\"},{\"id\":\"1052\"},{\"id\":\"1053\"},{\"id\":\"1054\"},{\"id\":\"1055\"},{\"id\":\"1056\"},{\"id\":\"1057\"},{\"id\":\"1058\"},{\"id\":\"1059\"},{\"id\":\"1060\"}]},\"id\":\"1014\",\"type\":\"DatetimeTicker\"},{\"attributes\":{\"fill_alpha\":{\"value\":0.1},\"fill_color\":{\"value\":\"black\"},\"line_alpha\":{\"value\":0.1},\"x\":{\"field\":\"TrainingStartTime\"},\"y\":{\"field\":\"FinalObjectiveValue\"}},\"id\":\"1038\",\"type\":\"Circle\"},{\"attributes\":{\"months\":[0,6]},\"id\":\"1059\",\"type\":\"MonthsTicker\"},{\"attributes\":{\"axis\":{\"id\":\"1013\"},\"ticker\":null},\"id\":\"1016\",\"type\":\"Grid\"},{\"attributes\":{},\"id\":\"1060\",\"type\":\"YearsTicker\"},{\"attributes\":{\"days\":[1,2,3,4,5,6,7,8,9,10,11,12,13,14,15,16,17,18,19,20,21,22,23,24,25,26,27,28,29,30,31]},\"id\":\"1052\",\"type\":\"DaysTicker\"},{\"attributes\":{\"axis_label\":\"average test accuracy\",\"formatter\":{\"id\":\"1048\"},\"major_label_policy\":{\"id\":\"1047\"},\"ticker\":{\"id\":\"1018\"}},\"id\":\"1017\",\"type\":\"LinearAxis\"},{\"attributes\":{},\"id\":\"1061\",\"type\":\"Selection\"},{\"attributes\":{},\"id\":\"1018\",\"type\":\"BasicTicker\"},{\"attributes\":{},\"id\":\"1062\",\"type\":\"UnionRenderers\"},{\"attributes\":{\"axis\":{\"id\":\"1017\"},\"dimension\":1,\"ticker\":null},\"id\":\"1020\",\"type\":\"Grid\"},{\"attributes\":{\"base\":60,\"mantissas\":[1,2,5,10,15,20,30],\"max_interval\":1800000.0,\"min_interval\":1000.0,\"num_minor_ticks\":0},\"id\":\"1050\",\"type\":\"AdaptiveTicker\"},{\"attributes\":{\"base\":24,\"mantissas\":[1,2,4,6,8,12],\"max_interval\":43200000.0,\"min_interval\":3600000.0,\"num_minor_ticks\":0},\"id\":\"1051\",\"type\":\"AdaptiveTicker\"},{\"attributes\":{},\"id\":\"1042\",\"type\":\"Title\"},{\"attributes\":{},\"id\":\"1007\",\"type\":\"DataRange1d\"},{\"attributes\":{},\"id\":\"1048\",\"type\":\"BasicTickFormatter\"},{\"attributes\":{},\"id\":\"1021\",\"type\":\"PanTool\"},{\"attributes\":{},\"id\":\"1022\",\"type\":\"WheelZoomTool\"},{\"attributes\":{\"mantissas\":[1,2,5],\"max_interval\":500.0,\"num_minor_ticks\":0},\"id\":\"1049\",\"type\":\"AdaptiveTicker\"}],\"root_ids\":[\"1004\"]},\"title\":\"Bokeh Application\",\"version\":\"2.3.3\"}};\n",
       "  var render_items = [{\"docid\":\"d66aadc8-5a5f-4f71-9269-b7144b9b14d6\",\"root_ids\":[\"1004\"],\"roots\":{\"1004\":\"f82cc64a-1b39-4948-aa58-3482cc4334d4\"}}];\n",
       "  root.Bokeh.embed.embed_items_notebook(docs_json, render_items);\n",
       "\n",
       "  }\n",
       "  if (root.Bokeh !== undefined) {\n",
       "    embed_document(root);\n",
       "  } else {\n",
       "    var attempts = 0;\n",
       "    var timer = setInterval(function(root) {\n",
       "      if (root.Bokeh !== undefined) {\n",
       "        clearInterval(timer);\n",
       "        embed_document(root);\n",
       "      } else {\n",
       "        attempts++;\n",
       "        if (attempts > 100) {\n",
       "          clearInterval(timer);\n",
       "          console.log(\"Bokeh: ERROR: Unable to run BokehJS code because BokehJS library is missing\");\n",
       "        }\n",
       "      }\n",
       "    }, 10, root)\n",
       "  }\n",
       "})(window);"
      ],
      "application/vnd.bokehjs_exec.v0+json": ""
     },
     "metadata": {
      "application/vnd.bokehjs_exec.v0+json": {
       "id": "1004"
      }
     },
     "output_type": "display_data"
    }
   ],
   "source": [
    "import bokeh\n",
    "import bokeh.io\n",
    "\n",
    "bokeh.io.output_notebook()\n",
    "from bokeh.plotting import figure, show\n",
    "from bokeh.models import HoverTool\n",
    "\n",
    "import pandas as pd\n",
    "\n",
    "df_parent_objective_value = df[df[\"FinalObjectiveValue\"] > -float(\"inf\")]\n",
    "\n",
    "p = figure(\n",
    "    plot_width=900,\n",
    "    plot_height=400,\n",
    "    x_axis_type=\"datetime\",\n",
    "    x_axis_label=\"datetime\",\n",
    "    y_axis_label=objective_metric_name,\n",
    ")\n",
    "p.circle(\n",
    "    source=df_parent_objective_value, x=\"TrainingStartTime\", y=\"FinalObjectiveValue\", color=\"black\"\n",
    ")\n",
    "\n",
    "show(p)"
   ]
  },
  {
   "cell_type": "code",
   "execution_count": 51,
   "metadata": {
    "id": "n9PrIjN7e-YC",
    "tags": []
   },
   "outputs": [
    {
     "name": "stdout",
     "output_type": "stream",
     "text": [
      "\n",
      "2023-03-18 01:51:46 Starting - Found matching resource for reuse\n",
      "2023-03-18 01:51:46 Downloading - Downloading input data\n",
      "2023-03-18 01:51:46 Training - Training image download completed. Training in progress.\n",
      "2023-03-18 01:51:46 Uploading - Uploading generated training model\n",
      "2023-03-18 01:51:46 Completed - Resource retained for reuse\n"
     ]
    }
   ],
   "source": [
    "best_estimator=tuner.best_estimator()"
   ]
  },
  {
   "cell_type": "code",
   "execution_count": 52,
   "metadata": {
    "tags": []
   },
   "outputs": [
    {
     "data": {
      "text/plain": [
       "{'_tuning_objective_metric': '\"average test accuracy\"',\n",
       " 'batch-size': '\"32\"',\n",
       " 'epochs': '5',\n",
       " 'lr': '0.1',\n",
       " 'sagemaker_container_log_level': '20',\n",
       " 'sagemaker_estimator_class_name': '\"PyTorch\"',\n",
       " 'sagemaker_estimator_module': '\"sagemaker.pytorch.estimator\"',\n",
       " 'sagemaker_job_name': '\"pytorch-training-2023-03-17-23-21-30-661\"',\n",
       " 'sagemaker_program': '\"train_model.py\"',\n",
       " 'sagemaker_region': '\"us-east-1\"',\n",
       " 'sagemaker_submit_directory': '\"s3://sagemaker-us-east-1-277157499543/pytorch-training-2023-03-17-23-21-30-661/source/sourcedir.tar.gz\"'}"
      ]
     },
     "execution_count": 52,
     "metadata": {},
     "output_type": "execute_result"
    }
   ],
   "source": [
    "best_estimator.hyperparameters()"
   ]
  },
  {
   "cell_type": "code",
   "execution_count": 54,
   "metadata": {
    "tags": []
   },
   "outputs": [
    {
     "data": {
      "text/plain": [
       "{'batch-size': 32, 'lr': '0.1', 'epochs': '5'}"
      ]
     },
     "execution_count": 54,
     "metadata": {},
     "output_type": "execute_result"
    }
   ],
   "source": [
    "hyperparameters = {\"batch-size\": int(best_estimator.hyperparameters()['batch-size'].replace('\"', '')), \\\n",
    "                   \"lr\": best_estimator.hyperparameters()['lr'],\n",
    "                  'epochs':  best_estimator.hyperparameters()['epochs']}\n",
    "hyperparameters"
   ]
  },
  {
   "cell_type": "code",
   "execution_count": null,
   "metadata": {},
   "outputs": [],
   "source": []
  },
  {
   "cell_type": "code",
   "execution_count": null,
   "metadata": {},
   "outputs": [],
   "source": []
  },
  {
   "cell_type": "code",
   "execution_count": null,
   "metadata": {},
   "outputs": [],
   "source": []
  },
  {
   "cell_type": "markdown",
   "metadata": {
    "id": "cFajVwXGe-YC"
   },
   "source": [
    "### Model Deploying and Querying\n",
    "**TODO:** Can you deploy your model to an endpoint and then query that endpoint to get a result?"
   ]
  },
  {
   "cell_type": "code",
   "execution_count": 55,
   "metadata": {
    "id": "zi481s3Ee-YC",
    "tags": []
   },
   "outputs": [],
   "source": [
    "# TODO: Deploy your model to an endpoint\n",
    "modellocation=estimator.model_data\n",
    "\n",
    "jpeg_serializer = sagemaker.serializers.IdentitySerializer(\"image/jpeg\")\n",
    "json_deserializer = sagemaker.deserializers.JSONDeserializer()\n"
   ]
  },
  {
   "cell_type": "code",
   "execution_count": 56,
   "metadata": {
    "id": "YKZ9i7lRe-YC",
    "tags": []
   },
   "outputs": [],
   "source": [
    "# TODO: Run an prediction on the endpoint\n",
    "class ImagePredictor(Predictor):\n",
    "    def __init__(self, endpoint_name, sagemaker_session):\n",
    "        super(ImagePredictor, self).__init__(\n",
    "            endpoint_name,\n",
    "            sagemaker_session=sagemaker_session,\n",
    "            serializer=jpeg_serializer,\n",
    "            deserializer=json_deserializer,\n",
    "        )\n"
   ]
  },
  {
   "cell_type": "code",
   "execution_count": 57,
   "metadata": {
    "id": "yp0MnFHoe-YD",
    "outputId": "89e4c982-8fd9-40db-d5d6-07994d7a9d9c",
    "tags": []
   },
   "outputs": [
    {
     "name": "stdout",
     "output_type": "stream",
     "text": [
      "-----!"
     ]
    }
   ],
   "source": [
    "# TODO: Remember to shutdown/delete your endpoint once your work is done\n",
    "pytorch_model = PyTorchModel(model_data=modellocation, role=role, entry_point='inference.py',py_version='py36',\n",
    "                             framework_version='1.8',\n",
    "                             predictor_cls=ImagePredictor) \n",
    "\n",
    "predictor=pytorch_model.deploy(initial_instance_count=1, instance_type=\"ml.m5.large\") "
   ]
  },
  {
   "cell_type": "code",
   "execution_count": 58,
   "metadata": {
    "id": "sJ1Hl0Tae-YD",
    "tags": []
   },
   "outputs": [],
   "source": [
    "predictor.serializer = IdentitySerializer(\"image/jpeg\")\n",
    "\n",
    "def identify_num_objects(image_path):    \n",
    "    buf = io.BytesIO()\n",
    "    Image.open(image_path).save(buf, format=\"JPEG\")\n",
    "    response = predictor.predict(buf.getvalue())\n",
    "\n",
    "    return list(response[0]).index(max(response[0]))\n",
    "\n",
    "\n"
   ]
  },
  {
   "cell_type": "code",
   "execution_count": 72,
   "metadata": {
    "id": "BPfu3vc7e-YE",
    "tags": []
   },
   "outputs": [],
   "source": [
    "# TODO: Cost Analysis\n",
    "model_responses = defaultdict(lambda: list())\n",
    "\n",
    "for i in range(2, 6):\n",
    "    path =  f\"new_data/test/{i}/\"\n",
    "    for f in listdir(path):\n",
    "        file_path = f\"{path}{f}\"\n",
    "        model_responses[i].append(identify_num_objects(file_path))"
   ]
  },
  {
   "cell_type": "markdown",
   "metadata": {
    "id": "QrvRk4zQe-YE"
   },
   "source": [
    "### Accuracy"
   ]
  },
  {
   "cell_type": "code",
   "execution_count": 73,
   "metadata": {
    "id": "9M6Q_4Ble-YF",
    "tags": []
   },
   "outputs": [
    {
     "name": "stdout",
     "output_type": "stream",
     "text": [
      "Accuracy for 1 objects: 0.0\n",
      "Accuracy for 2 objects: 0.7\n",
      "Accuracy for 3 objects: 0.32\n",
      "Accuracy for 4 objects: 0.59\n",
      "Accuracy for 5 objects: 0.0\n",
      "Mean Accuracy: 0.322\n"
     ]
    }
   ],
   "source": [
    "correct = 0\n",
    "\n",
    "for i in range(1, 6):\n",
    "    partial = len(list(filter(lambda x: x == i, model_responses[i])))\n",
    "    correct += partial\n",
    "    print(f\"Accuracy for {i} objects: {partial/200}\")\n",
    "\n",
    "print(f\"Mean Accuracy: {correct/1000}\")"
   ]
  },
  {
   "cell_type": "markdown",
   "metadata": {
    "id": "gOYN2noie-YF"
   },
   "source": [
    "### Rmse\n"
   ]
  },
  {
   "cell_type": "code",
   "execution_count": 75,
   "metadata": {
    "id": "ZkBAAPGXe-YG",
    "tags": []
   },
   "outputs": [
    {
     "name": "stdout",
     "output_type": "stream",
     "text": [
      "RSME for 1 objects: 0.0\n",
      "RSME for 2 objects: 1.5362291495737217\n",
      "RSME for 3 objects: 2.2494443758403984\n",
      "RSME for 4 objects: 3.0298514815086235\n",
      "RSME for 5 objects: 3.5735136770411273\n",
      "Total RSME: 2.4236336356801123\n"
     ]
    }
   ],
   "source": [
    "import math\n",
    "rsme = {}\n",
    "\n",
    "for i in range(1, 6):\n",
    "    rsme[i] = sum(list(map(lambda x: (x - i) ** 2, model_responses[i])))\n",
    "    print(f\"RSME for {i} objects: {math.sqrt(rsme[i]/200)}\")\n",
    "\n",
    "print(f\"Total RSME: {math.sqrt(sum(rsme.values())/1000)}\")"
   ]
  },
  {
   "cell_type": "code",
   "execution_count": null,
   "metadata": {
    "id": "nv5yJxW-e-YG"
   },
   "outputs": [],
   "source": [
    "# delet end point\n",
    "predictor.delete_endpoint()\n"
   ]
  }
 ],
 "metadata": {
  "availableInstances": [
   {
    "_defaultOrder": 0,
    "_isFastLaunch": true,
    "category": "General purpose",
    "gpuNum": 0,
    "memoryGiB": 4,
    "name": "ml.t3.medium",
    "vcpuNum": 2
   },
   {
    "_defaultOrder": 1,
    "_isFastLaunch": false,
    "category": "General purpose",
    "gpuNum": 0,
    "memoryGiB": 8,
    "name": "ml.t3.large",
    "vcpuNum": 2
   },
   {
    "_defaultOrder": 2,
    "_isFastLaunch": false,
    "category": "General purpose",
    "gpuNum": 0,
    "memoryGiB": 16,
    "name": "ml.t3.xlarge",
    "vcpuNum": 4
   },
   {
    "_defaultOrder": 3,
    "_isFastLaunch": false,
    "category": "General purpose",
    "gpuNum": 0,
    "memoryGiB": 32,
    "name": "ml.t3.2xlarge",
    "vcpuNum": 8
   },
   {
    "_defaultOrder": 4,
    "_isFastLaunch": true,
    "category": "General purpose",
    "gpuNum": 0,
    "memoryGiB": 8,
    "name": "ml.m5.large",
    "vcpuNum": 2
   },
   {
    "_defaultOrder": 5,
    "_isFastLaunch": false,
    "category": "General purpose",
    "gpuNum": 0,
    "memoryGiB": 16,
    "name": "ml.m5.xlarge",
    "vcpuNum": 4
   },
   {
    "_defaultOrder": 6,
    "_isFastLaunch": false,
    "category": "General purpose",
    "gpuNum": 0,
    "memoryGiB": 32,
    "name": "ml.m5.2xlarge",
    "vcpuNum": 8
   },
   {
    "_defaultOrder": 7,
    "_isFastLaunch": false,
    "category": "General purpose",
    "gpuNum": 0,
    "memoryGiB": 64,
    "name": "ml.m5.4xlarge",
    "vcpuNum": 16
   },
   {
    "_defaultOrder": 8,
    "_isFastLaunch": false,
    "category": "General purpose",
    "gpuNum": 0,
    "memoryGiB": 128,
    "name": "ml.m5.8xlarge",
    "vcpuNum": 32
   },
   {
    "_defaultOrder": 9,
    "_isFastLaunch": false,
    "category": "General purpose",
    "gpuNum": 0,
    "memoryGiB": 192,
    "name": "ml.m5.12xlarge",
    "vcpuNum": 48
   },
   {
    "_defaultOrder": 10,
    "_isFastLaunch": false,
    "category": "General purpose",
    "gpuNum": 0,
    "memoryGiB": 256,
    "name": "ml.m5.16xlarge",
    "vcpuNum": 64
   },
   {
    "_defaultOrder": 11,
    "_isFastLaunch": false,
    "category": "General purpose",
    "gpuNum": 0,
    "memoryGiB": 384,
    "name": "ml.m5.24xlarge",
    "vcpuNum": 96
   },
   {
    "_defaultOrder": 12,
    "_isFastLaunch": false,
    "category": "General purpose",
    "gpuNum": 0,
    "memoryGiB": 8,
    "name": "ml.m5d.large",
    "vcpuNum": 2
   },
   {
    "_defaultOrder": 13,
    "_isFastLaunch": false,
    "category": "General purpose",
    "gpuNum": 0,
    "memoryGiB": 16,
    "name": "ml.m5d.xlarge",
    "vcpuNum": 4
   },
   {
    "_defaultOrder": 14,
    "_isFastLaunch": false,
    "category": "General purpose",
    "gpuNum": 0,
    "memoryGiB": 32,
    "name": "ml.m5d.2xlarge",
    "vcpuNum": 8
   },
   {
    "_defaultOrder": 15,
    "_isFastLaunch": false,
    "category": "General purpose",
    "gpuNum": 0,
    "memoryGiB": 64,
    "name": "ml.m5d.4xlarge",
    "vcpuNum": 16
   },
   {
    "_defaultOrder": 16,
    "_isFastLaunch": false,
    "category": "General purpose",
    "gpuNum": 0,
    "memoryGiB": 128,
    "name": "ml.m5d.8xlarge",
    "vcpuNum": 32
   },
   {
    "_defaultOrder": 17,
    "_isFastLaunch": false,
    "category": "General purpose",
    "gpuNum": 0,
    "memoryGiB": 192,
    "name": "ml.m5d.12xlarge",
    "vcpuNum": 48
   },
   {
    "_defaultOrder": 18,
    "_isFastLaunch": false,
    "category": "General purpose",
    "gpuNum": 0,
    "memoryGiB": 256,
    "name": "ml.m5d.16xlarge",
    "vcpuNum": 64
   },
   {
    "_defaultOrder": 19,
    "_isFastLaunch": false,
    "category": "General purpose",
    "gpuNum": 0,
    "memoryGiB": 384,
    "name": "ml.m5d.24xlarge",
    "vcpuNum": 96
   },
   {
    "_defaultOrder": 20,
    "_isFastLaunch": true,
    "category": "Compute optimized",
    "gpuNum": 0,
    "memoryGiB": 4,
    "name": "ml.c5.large",
    "vcpuNum": 2
   },
   {
    "_defaultOrder": 21,
    "_isFastLaunch": false,
    "category": "Compute optimized",
    "gpuNum": 0,
    "memoryGiB": 8,
    "name": "ml.c5.xlarge",
    "vcpuNum": 4
   },
   {
    "_defaultOrder": 22,
    "_isFastLaunch": false,
    "category": "Compute optimized",
    "gpuNum": 0,
    "memoryGiB": 16,
    "name": "ml.c5.2xlarge",
    "vcpuNum": 8
   },
   {
    "_defaultOrder": 23,
    "_isFastLaunch": false,
    "category": "Compute optimized",
    "gpuNum": 0,
    "memoryGiB": 32,
    "name": "ml.c5.4xlarge",
    "vcpuNum": 16
   },
   {
    "_defaultOrder": 24,
    "_isFastLaunch": false,
    "category": "Compute optimized",
    "gpuNum": 0,
    "memoryGiB": 72,
    "name": "ml.c5.9xlarge",
    "vcpuNum": 36
   },
   {
    "_defaultOrder": 25,
    "_isFastLaunch": false,
    "category": "Compute optimized",
    "gpuNum": 0,
    "memoryGiB": 96,
    "name": "ml.c5.12xlarge",
    "vcpuNum": 48
   },
   {
    "_defaultOrder": 26,
    "_isFastLaunch": false,
    "category": "Compute optimized",
    "gpuNum": 0,
    "memoryGiB": 144,
    "name": "ml.c5.18xlarge",
    "vcpuNum": 72
   },
   {
    "_defaultOrder": 27,
    "_isFastLaunch": false,
    "category": "Compute optimized",
    "gpuNum": 0,
    "memoryGiB": 192,
    "name": "ml.c5.24xlarge",
    "vcpuNum": 96
   },
   {
    "_defaultOrder": 28,
    "_isFastLaunch": true,
    "category": "Accelerated computing",
    "gpuNum": 1,
    "memoryGiB": 16,
    "name": "ml.g4dn.xlarge",
    "vcpuNum": 4
   },
   {
    "_defaultOrder": 29,
    "_isFastLaunch": false,
    "category": "Accelerated computing",
    "gpuNum": 1,
    "memoryGiB": 32,
    "name": "ml.g4dn.2xlarge",
    "vcpuNum": 8
   },
   {
    "_defaultOrder": 30,
    "_isFastLaunch": false,
    "category": "Accelerated computing",
    "gpuNum": 1,
    "memoryGiB": 64,
    "name": "ml.g4dn.4xlarge",
    "vcpuNum": 16
   },
   {
    "_defaultOrder": 31,
    "_isFastLaunch": false,
    "category": "Accelerated computing",
    "gpuNum": 1,
    "memoryGiB": 128,
    "name": "ml.g4dn.8xlarge",
    "vcpuNum": 32
   },
   {
    "_defaultOrder": 32,
    "_isFastLaunch": false,
    "category": "Accelerated computing",
    "gpuNum": 4,
    "memoryGiB": 192,
    "name": "ml.g4dn.12xlarge",
    "vcpuNum": 48
   },
   {
    "_defaultOrder": 33,
    "_isFastLaunch": false,
    "category": "Accelerated computing",
    "gpuNum": 1,
    "memoryGiB": 256,
    "name": "ml.g4dn.16xlarge",
    "vcpuNum": 64
   },
   {
    "_defaultOrder": 34,
    "_isFastLaunch": false,
    "category": "Accelerated computing",
    "gpuNum": 1,
    "memoryGiB": 61,
    "name": "ml.p3.2xlarge",
    "vcpuNum": 8
   },
   {
    "_defaultOrder": 35,
    "_isFastLaunch": false,
    "category": "Accelerated computing",
    "gpuNum": 4,
    "memoryGiB": 244,
    "name": "ml.p3.8xlarge",
    "vcpuNum": 32
   },
   {
    "_defaultOrder": 36,
    "_isFastLaunch": false,
    "category": "Accelerated computing",
    "gpuNum": 8,
    "memoryGiB": 488,
    "name": "ml.p3.16xlarge",
    "vcpuNum": 64
   },
   {
    "_defaultOrder": 37,
    "_isFastLaunch": false,
    "category": "Accelerated computing",
    "gpuNum": 8,
    "memoryGiB": 768,
    "name": "ml.p3dn.24xlarge",
    "vcpuNum": 96
   },
   {
    "_defaultOrder": 38,
    "_isFastLaunch": false,
    "category": "Memory Optimized",
    "gpuNum": 0,
    "memoryGiB": 16,
    "name": "ml.r5.large",
    "vcpuNum": 2
   },
   {
    "_defaultOrder": 39,
    "_isFastLaunch": false,
    "category": "Memory Optimized",
    "gpuNum": 0,
    "memoryGiB": 32,
    "name": "ml.r5.xlarge",
    "vcpuNum": 4
   },
   {
    "_defaultOrder": 40,
    "_isFastLaunch": false,
    "category": "Memory Optimized",
    "gpuNum": 0,
    "memoryGiB": 64,
    "name": "ml.r5.2xlarge",
    "vcpuNum": 8
   },
   {
    "_defaultOrder": 41,
    "_isFastLaunch": false,
    "category": "Memory Optimized",
    "gpuNum": 0,
    "memoryGiB": 128,
    "name": "ml.r5.4xlarge",
    "vcpuNum": 16
   },
   {
    "_defaultOrder": 42,
    "_isFastLaunch": false,
    "category": "Memory Optimized",
    "gpuNum": 0,
    "memoryGiB": 256,
    "name": "ml.r5.8xlarge",
    "vcpuNum": 32
   },
   {
    "_defaultOrder": 43,
    "_isFastLaunch": false,
    "category": "Memory Optimized",
    "gpuNum": 0,
    "memoryGiB": 384,
    "name": "ml.r5.12xlarge",
    "vcpuNum": 48
   },
   {
    "_defaultOrder": 44,
    "_isFastLaunch": false,
    "category": "Memory Optimized",
    "gpuNum": 0,
    "memoryGiB": 512,
    "name": "ml.r5.16xlarge",
    "vcpuNum": 64
   },
   {
    "_defaultOrder": 45,
    "_isFastLaunch": false,
    "category": "Memory Optimized",
    "gpuNum": 0,
    "memoryGiB": 768,
    "name": "ml.r5.24xlarge",
    "vcpuNum": 96
   },
   {
    "_defaultOrder": 46,
    "_isFastLaunch": false,
    "category": "Accelerated computing",
    "gpuNum": 1,
    "memoryGiB": 16,
    "name": "ml.g5.xlarge",
    "vcpuNum": 4
   },
   {
    "_defaultOrder": 47,
    "_isFastLaunch": false,
    "category": "Accelerated computing",
    "gpuNum": 1,
    "memoryGiB": 32,
    "name": "ml.g5.2xlarge",
    "vcpuNum": 8
   },
   {
    "_defaultOrder": 48,
    "_isFastLaunch": false,
    "category": "Accelerated computing",
    "gpuNum": 1,
    "memoryGiB": 64,
    "name": "ml.g5.4xlarge",
    "vcpuNum": 16
   },
   {
    "_defaultOrder": 49,
    "_isFastLaunch": false,
    "category": "Accelerated computing",
    "gpuNum": 1,
    "memoryGiB": 128,
    "name": "ml.g5.8xlarge",
    "vcpuNum": 32
   },
   {
    "_defaultOrder": 50,
    "_isFastLaunch": false,
    "category": "Accelerated computing",
    "gpuNum": 1,
    "memoryGiB": 256,
    "name": "ml.g5.16xlarge",
    "vcpuNum": 64
   },
   {
    "_defaultOrder": 51,
    "_isFastLaunch": false,
    "category": "Accelerated computing",
    "gpuNum": 4,
    "memoryGiB": 192,
    "name": "ml.g5.12xlarge",
    "vcpuNum": 48
   },
   {
    "_defaultOrder": 52,
    "_isFastLaunch": false,
    "category": "Accelerated computing",
    "gpuNum": 4,
    "memoryGiB": 384,
    "name": "ml.g5.24xlarge",
    "vcpuNum": 96
   },
   {
    "_defaultOrder": 53,
    "_isFastLaunch": false,
    "category": "Accelerated computing",
    "gpuNum": 8,
    "memoryGiB": 768,
    "name": "ml.g5.48xlarge",
    "vcpuNum": 192
   }
  ],
  "colab": {
   "collapsed_sections": [
    "CYWdDvqye-X-"
   ],
   "name": "sagemaker.ipynb",
   "provenance": []
  },
  "instance_type": "ml.g4dn.xlarge",
  "kernelspec": {
   "display_name": "Python 3 (PyTorch 1.8 Python 3.6 GPU Optimized)",
   "language": "python",
   "name": "python3__SAGEMAKER_INTERNAL__arn:aws:sagemaker:us-east-1:081325390199:image/pytorch-1.8-gpu-py36"
  },
  "language_info": {
   "codemirror_mode": {
    "name": "ipython",
    "version": 3
   },
   "file_extension": ".py",
   "mimetype": "text/x-python",
   "name": "python",
   "nbconvert_exporter": "python",
   "pygments_lexer": "ipython3",
   "version": "3.6.13"
  }
 },
 "nbformat": 4,
 "nbformat_minor": 4
}
